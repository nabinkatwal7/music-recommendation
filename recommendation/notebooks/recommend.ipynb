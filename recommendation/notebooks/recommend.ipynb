{
 "cells": [
  {
   "cell_type": "code",
   "execution_count": 8,
   "metadata": {},
   "outputs": [],
   "source": [
    "import pandas as pd\n",
    "import random\n",
    "import authorization\n",
    "import numpy as np\n",
    "from numpy.linalg import norm"
   ]
  },
  {
   "cell_type": "code",
   "execution_count": 9,
   "metadata": {},
   "outputs": [
    {
     "name": "stdout",
     "output_type": "stream",
     "text": [
      "(1234, 6)\n"
     ]
    },
    {
     "data": {
      "text/html": [
       "<div>\n",
       "<style scoped>\n",
       "    .dataframe tbody tr th:only-of-type {\n",
       "        vertical-align: middle;\n",
       "    }\n",
       "\n",
       "    .dataframe tbody tr th {\n",
       "        vertical-align: top;\n",
       "    }\n",
       "\n",
       "    .dataframe thead th {\n",
       "        text-align: right;\n",
       "    }\n",
       "</style>\n",
       "<table border=\"1\" class=\"dataframe\">\n",
       "  <thead>\n",
       "    <tr style=\"text-align: right;\">\n",
       "      <th></th>\n",
       "      <th>id</th>\n",
       "      <th>genre</th>\n",
       "      <th>track_name</th>\n",
       "      <th>artist_name</th>\n",
       "      <th>valence</th>\n",
       "      <th>energy</th>\n",
       "    </tr>\n",
       "  </thead>\n",
       "  <tbody>\n",
       "    <tr>\n",
       "      <th>0</th>\n",
       "      <td>53rVYwGiKUC3gYX8SQQYYU</td>\n",
       "      <td>acoustic</td>\n",
       "      <td>Something In The Way</td>\n",
       "      <td>Nirvana</td>\n",
       "      <td>0.103</td>\n",
       "      <td>0.347</td>\n",
       "    </tr>\n",
       "    <tr>\n",
       "      <th>1</th>\n",
       "      <td>2FGb3gJbKToDII7q6Kfp4i</td>\n",
       "      <td>acoustic</td>\n",
       "      <td>I'm Yours</td>\n",
       "      <td>Ron Pope</td>\n",
       "      <td>0.866</td>\n",
       "      <td>0.553</td>\n",
       "    </tr>\n",
       "    <tr>\n",
       "      <th>2</th>\n",
       "      <td>2ZQyksYO4zzhyHNcueL0CP</td>\n",
       "      <td>acoustic</td>\n",
       "      <td>Home</td>\n",
       "      <td>Phillip Phillips</td>\n",
       "      <td>0.293</td>\n",
       "      <td>0.792</td>\n",
       "    </tr>\n",
       "    <tr>\n",
       "      <th>3</th>\n",
       "      <td>5GCgC77m6EaAqu7ZlukMu2</td>\n",
       "      <td>acoustic</td>\n",
       "      <td>Umbrella</td>\n",
       "      <td>Train</td>\n",
       "      <td>0.627</td>\n",
       "      <td>0.849</td>\n",
       "    </tr>\n",
       "    <tr>\n",
       "      <th>4</th>\n",
       "      <td>6vrUTGn5p8IrfTZ0J6sIVM</td>\n",
       "      <td>acoustic</td>\n",
       "      <td>Iris</td>\n",
       "      <td>The Goo Goo Dolls</td>\n",
       "      <td>0.513</td>\n",
       "      <td>0.790</td>\n",
       "    </tr>\n",
       "  </tbody>\n",
       "</table>\n",
       "</div>"
      ],
      "text/plain": [
       "                       id     genre            track_name        artist_name  \\\n",
       "0  53rVYwGiKUC3gYX8SQQYYU  acoustic  Something In The Way            Nirvana   \n",
       "1  2FGb3gJbKToDII7q6Kfp4i  acoustic             I'm Yours           Ron Pope   \n",
       "2  2ZQyksYO4zzhyHNcueL0CP  acoustic                  Home   Phillip Phillips   \n",
       "3  5GCgC77m6EaAqu7ZlukMu2  acoustic              Umbrella              Train   \n",
       "4  6vrUTGn5p8IrfTZ0J6sIVM  acoustic                  Iris  The Goo Goo Dolls   \n",
       "\n",
       "   valence  energy  \n",
       "0    0.103   0.347  \n",
       "1    0.866   0.553  \n",
       "2    0.293   0.792  \n",
       "3    0.627   0.849  \n",
       "4    0.513   0.790  "
      ]
     },
     "execution_count": 9,
     "metadata": {},
     "output_type": "execute_result"
    }
   ],
   "source": [
    "df = pd.read_csv(\"valence_arousal_dataset.csv\")\n",
    "print(df.shape)\n",
    "df.head()"
   ]
  },
  {
   "cell_type": "code",
   "execution_count": 10,
   "metadata": {},
   "outputs": [
    {
     "data": {
      "text/plain": [
       "0    [0.103, 0.347]\n",
       "1    [0.866, 0.553]\n",
       "2    [0.293, 0.792]\n",
       "3    [0.627, 0.849]\n",
       "4     [0.513, 0.79]\n",
       "Name: mood_vec, dtype: object"
      ]
     },
     "execution_count": 10,
     "metadata": {},
     "output_type": "execute_result"
    }
   ],
   "source": [
    "df[\"mood_vec\"] = df[[\"valence\", \"energy\"]].values.tolist()\n",
    "df[\"mood_vec\"].head()"
   ]
  },
  {
   "cell_type": "code",
   "execution_count": 5,
   "metadata": {},
   "outputs": [],
   "source": [
    "sp = authorization.authorize() "
   ]
  },
  {
   "cell_type": "code",
   "execution_count": 6,
   "metadata": {},
   "outputs": [],
   "source": [
    "def recommend(track_id, ref_df, sp, n_recs = 5):\n",
    "    \n",
    "    # Crawl valence and arousal of given track from spotify api\n",
    "    track_features = sp.track_audio_features(track_id)\n",
    "    track_moodvec = np.array([track_features.valence, track_features.energy])\n",
    "    print(f\"mood_vec for {track_id}: {track_moodvec}\")\n",
    "    \n",
    "    # Compute distances to all reference tracks\n",
    "    ref_df[\"distances\"] = ref_df[\"mood_vec\"].apply(lambda x: norm(track_moodvec-np.array(x)))\n",
    "    # Sort distances from lowest to highest\n",
    "    ref_df_sorted = ref_df.sort_values(by = \"distances\", ascending = True)\n",
    "    # If the input track is in the reference set, it will have a distance of 0, but should not be recommendet\n",
    "    ref_df_sorted = ref_df_sorted[ref_df_sorted[\"id\"] != track_id]\n",
    "    \n",
    "    # Return n recommendations\n",
    "    return ref_df_sorted.iloc[:n_recs]"
   ]
  },
  {
   "cell_type": "code",
   "execution_count": 11,
   "metadata": {},
   "outputs": [
    {
     "name": "stdout",
     "output_type": "stream",
     "text": [
      "mood_vec for 49KmbdsI1k5LkdJwz64orV: [0.873 0.731]\n"
     ]
    },
    {
     "data": {
      "text/html": [
       "<div>\n",
       "<style scoped>\n",
       "    .dataframe tbody tr th:only-of-type {\n",
       "        vertical-align: middle;\n",
       "    }\n",
       "\n",
       "    .dataframe tbody tr th {\n",
       "        vertical-align: top;\n",
       "    }\n",
       "\n",
       "    .dataframe thead th {\n",
       "        text-align: right;\n",
       "    }\n",
       "</style>\n",
       "<table border=\"1\" class=\"dataframe\">\n",
       "  <thead>\n",
       "    <tr style=\"text-align: right;\">\n",
       "      <th></th>\n",
       "      <th>id</th>\n",
       "      <th>genre</th>\n",
       "      <th>track_name</th>\n",
       "      <th>artist_name</th>\n",
       "      <th>valence</th>\n",
       "      <th>energy</th>\n",
       "      <th>mood_vec</th>\n",
       "      <th>distances</th>\n",
       "    </tr>\n",
       "  </thead>\n",
       "  <tbody>\n",
       "    <tr>\n",
       "      <th>258</th>\n",
       "      <td>4wW9Xv0YkWydYIDDMRuy6X</td>\n",
       "      <td>detroit-techno</td>\n",
       "      <td>Elements Of Tone - J's A Mix</td>\n",
       "      <td>Various Artists</td>\n",
       "      <td>0.876</td>\n",
       "      <td>0.726</td>\n",
       "      <td>[0.876, 0.726]</td>\n",
       "      <td>0.005831</td>\n",
       "    </tr>\n",
       "    <tr>\n",
       "      <th>564</th>\n",
       "      <td>4vWBetFgUQE4nZZgriHhwi</td>\n",
       "      <td>indian</td>\n",
       "      <td>Yeh Dil Na Hota Bechara</td>\n",
       "      <td>Kishore Kumar</td>\n",
       "      <td>0.876</td>\n",
       "      <td>0.723</td>\n",
       "      <td>[0.876, 0.723]</td>\n",
       "      <td>0.008544</td>\n",
       "    </tr>\n",
       "    <tr>\n",
       "      <th>817</th>\n",
       "      <td>0HgiPF8K8ER71jHjdRNpNR</td>\n",
       "      <td>pagode</td>\n",
       "      <td>Menina Linda</td>\n",
       "      <td>Belo</td>\n",
       "      <td>0.873</td>\n",
       "      <td>0.722</td>\n",
       "      <td>[0.873, 0.722]</td>\n",
       "      <td>0.009000</td>\n",
       "    </tr>\n",
       "    <tr>\n",
       "      <th>368</th>\n",
       "      <td>6LvuRWVuOMAhTPqxHsdV4Y</td>\n",
       "      <td>forro</td>\n",
       "      <td>A História do Peixe Tuninha</td>\n",
       "      <td>Pé de Mulambo</td>\n",
       "      <td>0.879</td>\n",
       "      <td>0.717</td>\n",
       "      <td>[0.879, 0.717]</td>\n",
       "      <td>0.015232</td>\n",
       "    </tr>\n",
       "    <tr>\n",
       "      <th>385</th>\n",
       "      <td>7kQlRwniTCGhVny4V5whXZ</td>\n",
       "      <td>funk</td>\n",
       "      <td>Hot Pants... I'm Coming I'm Coming</td>\n",
       "      <td>Various Artists</td>\n",
       "      <td>0.886</td>\n",
       "      <td>0.739</td>\n",
       "      <td>[0.886, 0.739]</td>\n",
       "      <td>0.015264</td>\n",
       "    </tr>\n",
       "  </tbody>\n",
       "</table>\n",
       "</div>"
      ],
      "text/plain": [
       "                         id           genre  \\\n",
       "258  4wW9Xv0YkWydYIDDMRuy6X  detroit-techno   \n",
       "564  4vWBetFgUQE4nZZgriHhwi          indian   \n",
       "817  0HgiPF8K8ER71jHjdRNpNR          pagode   \n",
       "368  6LvuRWVuOMAhTPqxHsdV4Y           forro   \n",
       "385  7kQlRwniTCGhVny4V5whXZ            funk   \n",
       "\n",
       "                             track_name      artist_name  valence  energy  \\\n",
       "258        Elements Of Tone - J's A Mix  Various Artists    0.876   0.726   \n",
       "564             Yeh Dil Na Hota Bechara    Kishore Kumar    0.876   0.723   \n",
       "817                        Menina Linda             Belo    0.873   0.722   \n",
       "368         A História do Peixe Tuninha    Pé de Mulambo    0.879   0.717   \n",
       "385  Hot Pants... I'm Coming I'm Coming  Various Artists    0.886   0.739   \n",
       "\n",
       "           mood_vec  distances  \n",
       "258  [0.876, 0.726]   0.005831  \n",
       "564  [0.876, 0.723]   0.008544  \n",
       "817  [0.873, 0.722]   0.009000  \n",
       "368  [0.879, 0.717]   0.015232  \n",
       "385  [0.886, 0.739]   0.015264  "
      ]
     },
     "execution_count": 11,
     "metadata": {},
     "output_type": "execute_result"
    }
   ],
   "source": [
    "track1 = random.choice(df[\"id\"])\n",
    "recommend(track_id = track1, ref_df = df, sp = sp, n_recs = 5)"
   ]
  },
  {
   "cell_type": "code",
   "execution_count": null,
   "metadata": {},
   "outputs": [],
   "source": []
  }
 ],
 "metadata": {
  "interpreter": {
   "hash": "26de051ba29f2982a8de78e945f0abaf191376122a1563185a90213a26c5da77"
  },
  "kernelspec": {
   "display_name": "Python 3.10.4 64-bit",
   "language": "python",
   "name": "python3"
  },
  "language_info": {
   "codemirror_mode": {
    "name": "ipython",
    "version": 3
   },
   "file_extension": ".py",
   "mimetype": "text/x-python",
   "name": "python",
   "nbconvert_exporter": "python",
   "pygments_lexer": "ipython3",
   "version": "3.10.4"
  },
  "orig_nbformat": 4
 },
 "nbformat": 4,
 "nbformat_minor": 2
}
