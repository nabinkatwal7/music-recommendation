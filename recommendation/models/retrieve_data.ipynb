{
 "cells": [
  {
   "cell_type": "code",
   "execution_count": 1,
   "metadata": {},
   "outputs": [],
   "source": [
    "import spotipy \n",
    "from spotipy.oauth2 import SpotifyOAuth\n",
    "from tqdm import tqdm \n",
    "import pandas as pd "
   ]
  },
  {
   "cell_type": "code",
   "execution_count": 2,
   "metadata": {},
   "outputs": [],
   "source": [
    "client_id = '12824720980943c684531a5514a21114'\n",
    "client_secret = '6eb9eb97a614492393a1cfe2e606b227'"
   ]
  },
  {
   "cell_type": "code",
   "execution_count": 3,
   "metadata": {},
   "outputs": [],
   "source": [
    "artist_name = []\n",
    "track_name = []\n",
    "popularity = []\n",
    "track_id = []"
   ]
  },
  {
   "cell_type": "code",
   "execution_count": 6,
   "metadata": {},
   "outputs": [
    {
     "name": "stdout",
     "output_type": "stream",
     "text": [
      "range: short_term\n"
     ]
    },
    {
     "ename": "KeyboardInterrupt",
     "evalue": "Interrupted by user",
     "output_type": "error",
     "traceback": [
      "\u001b[1;31m---------------------------------------------------------------------------\u001b[0m",
      "\u001b[1;31mKeyboardInterrupt\u001b[0m                         Traceback (most recent call last)",
      "\u001b[1;32mc:\\Users\\nabee\\OneDrive\\Desktop\\music-recommendation\\recommendation\\models\\retrieve_data.ipynb Cell 4'\u001b[0m in \u001b[0;36m<cell line: 13>\u001b[1;34m()\u001b[0m\n\u001b[0;32m     <a href='vscode-notebook-cell:/c%3A/Users/nabee/OneDrive/Desktop/music-recommendation/recommendation/models/retrieve_data.ipynb#ch0000003?line=12'>13</a>\u001b[0m \u001b[39mfor\u001b[39;00m sp_range \u001b[39min\u001b[39;00m ranges:\n\u001b[0;32m     <a href='vscode-notebook-cell:/c%3A/Users/nabee/OneDrive/Desktop/music-recommendation/recommendation/models/retrieve_data.ipynb#ch0000003?line=13'>14</a>\u001b[0m     \u001b[39mprint\u001b[39m(\u001b[39m\"\u001b[39m\u001b[39mrange:\u001b[39m\u001b[39m\"\u001b[39m,sp_range)\n\u001b[1;32m---> <a href='vscode-notebook-cell:/c%3A/Users/nabee/OneDrive/Desktop/music-recommendation/recommendation/models/retrieve_data.ipynb#ch0000003?line=14'>15</a>\u001b[0m     results \u001b[39m=\u001b[39m sp\u001b[39m.\u001b[39;49mcurrent_user_top_tracks(time_range\u001b[39m=\u001b[39;49msp_range, limit\u001b[39m=\u001b[39;49m\u001b[39m50\u001b[39;49m)\n\u001b[0;32m     <a href='vscode-notebook-cell:/c%3A/Users/nabee/OneDrive/Desktop/music-recommendation/recommendation/models/retrieve_data.ipynb#ch0000003?line=15'>16</a>\u001b[0m     \u001b[39mfor\u001b[39;00m i, item \u001b[39min\u001b[39;00m \u001b[39menumerate\u001b[39m(results[\u001b[39m'\u001b[39m\u001b[39mitems\u001b[39m\u001b[39m'\u001b[39m]):\n\u001b[0;32m     <a href='vscode-notebook-cell:/c%3A/Users/nabee/OneDrive/Desktop/music-recommendation/recommendation/models/retrieve_data.ipynb#ch0000003?line=16'>17</a>\u001b[0m         artist_name\u001b[39m.\u001b[39mappend(item[\u001b[39m'\u001b[39m\u001b[39martists\u001b[39m\u001b[39m'\u001b[39m][\u001b[39m0\u001b[39m][\u001b[39m'\u001b[39m\u001b[39mname\u001b[39m\u001b[39m'\u001b[39m])\n",
      "File \u001b[1;32m~\\AppData\\Roaming\\Python\\Python310\\site-packages\\spotipy\\client.py:1428\u001b[0m, in \u001b[0;36mSpotify.current_user_top_tracks\u001b[1;34m(self, limit, offset, time_range)\u001b[0m\n\u001b[0;32m   <a href='file:///c%3A/Users/nabee/AppData/Roaming/Python/Python310/site-packages/spotipy/client.py?line=1416'>1417</a>\u001b[0m \u001b[39mdef\u001b[39;00m \u001b[39mcurrent_user_top_tracks\u001b[39m(\n\u001b[0;32m   <a href='file:///c%3A/Users/nabee/AppData/Roaming/Python/Python310/site-packages/spotipy/client.py?line=1417'>1418</a>\u001b[0m     \u001b[39mself\u001b[39m, limit\u001b[39m=\u001b[39m\u001b[39m20\u001b[39m, offset\u001b[39m=\u001b[39m\u001b[39m0\u001b[39m, time_range\u001b[39m=\u001b[39m\u001b[39m\"\u001b[39m\u001b[39mmedium_term\u001b[39m\u001b[39m\"\u001b[39m\n\u001b[0;32m   <a href='file:///c%3A/Users/nabee/AppData/Roaming/Python/Python310/site-packages/spotipy/client.py?line=1418'>1419</a>\u001b[0m ):\n\u001b[0;32m   <a href='file:///c%3A/Users/nabee/AppData/Roaming/Python/Python310/site-packages/spotipy/client.py?line=1419'>1420</a>\u001b[0m     \u001b[39m\"\"\" Get the current user's top tracks\u001b[39;00m\n\u001b[0;32m   <a href='file:///c%3A/Users/nabee/AppData/Roaming/Python/Python310/site-packages/spotipy/client.py?line=1420'>1421</a>\u001b[0m \n\u001b[0;32m   <a href='file:///c%3A/Users/nabee/AppData/Roaming/Python/Python310/site-packages/spotipy/client.py?line=1421'>1422</a>\u001b[0m \u001b[39m        Parameters:\u001b[39;00m\n\u001b[1;32m   (...)\u001b[0m\n\u001b[0;32m   <a href='file:///c%3A/Users/nabee/AppData/Roaming/Python/Python310/site-packages/spotipy/client.py?line=1425'>1426</a>\u001b[0m \u001b[39m              Valid-values: short_term, medium_term, long_term\u001b[39;00m\n\u001b[0;32m   <a href='file:///c%3A/Users/nabee/AppData/Roaming/Python/Python310/site-packages/spotipy/client.py?line=1426'>1427</a>\u001b[0m \u001b[39m    \"\"\"\u001b[39;00m\n\u001b[1;32m-> <a href='file:///c%3A/Users/nabee/AppData/Roaming/Python/Python310/site-packages/spotipy/client.py?line=1427'>1428</a>\u001b[0m     \u001b[39mreturn\u001b[39;00m \u001b[39mself\u001b[39;49m\u001b[39m.\u001b[39;49m_get(\n\u001b[0;32m   <a href='file:///c%3A/Users/nabee/AppData/Roaming/Python/Python310/site-packages/spotipy/client.py?line=1428'>1429</a>\u001b[0m         \u001b[39m\"\u001b[39;49m\u001b[39mme/top/tracks\u001b[39;49m\u001b[39m\"\u001b[39;49m, time_range\u001b[39m=\u001b[39;49mtime_range, limit\u001b[39m=\u001b[39;49mlimit, offset\u001b[39m=\u001b[39;49moffset\n\u001b[0;32m   <a href='file:///c%3A/Users/nabee/AppData/Roaming/Python/Python310/site-packages/spotipy/client.py?line=1429'>1430</a>\u001b[0m     )\n",
      "File \u001b[1;32m~\\AppData\\Roaming\\Python\\Python310\\site-packages\\spotipy\\client.py:297\u001b[0m, in \u001b[0;36mSpotify._get\u001b[1;34m(self, url, args, payload, **kwargs)\u001b[0m\n\u001b[0;32m    <a href='file:///c%3A/Users/nabee/AppData/Roaming/Python/Python310/site-packages/spotipy/client.py?line=293'>294</a>\u001b[0m \u001b[39mif\u001b[39;00m args:\n\u001b[0;32m    <a href='file:///c%3A/Users/nabee/AppData/Roaming/Python/Python310/site-packages/spotipy/client.py?line=294'>295</a>\u001b[0m     kwargs\u001b[39m.\u001b[39mupdate(args)\n\u001b[1;32m--> <a href='file:///c%3A/Users/nabee/AppData/Roaming/Python/Python310/site-packages/spotipy/client.py?line=296'>297</a>\u001b[0m \u001b[39mreturn\u001b[39;00m \u001b[39mself\u001b[39;49m\u001b[39m.\u001b[39;49m_internal_call(\u001b[39m\"\u001b[39;49m\u001b[39mGET\u001b[39;49m\u001b[39m\"\u001b[39;49m, url, payload, kwargs)\n",
      "File \u001b[1;32m~\\AppData\\Roaming\\Python\\Python310\\site-packages\\spotipy\\client.py:221\u001b[0m, in \u001b[0;36mSpotify._internal_call\u001b[1;34m(self, method, url, payload, params)\u001b[0m\n\u001b[0;32m    <a href='file:///c%3A/Users/nabee/AppData/Roaming/Python/Python310/site-packages/spotipy/client.py?line=218'>219</a>\u001b[0m \u001b[39mif\u001b[39;00m \u001b[39mnot\u001b[39;00m url\u001b[39m.\u001b[39mstartswith(\u001b[39m\"\u001b[39m\u001b[39mhttp\u001b[39m\u001b[39m\"\u001b[39m):\n\u001b[0;32m    <a href='file:///c%3A/Users/nabee/AppData/Roaming/Python/Python310/site-packages/spotipy/client.py?line=219'>220</a>\u001b[0m     url \u001b[39m=\u001b[39m \u001b[39mself\u001b[39m\u001b[39m.\u001b[39mprefix \u001b[39m+\u001b[39m url\n\u001b[1;32m--> <a href='file:///c%3A/Users/nabee/AppData/Roaming/Python/Python310/site-packages/spotipy/client.py?line=220'>221</a>\u001b[0m headers \u001b[39m=\u001b[39m \u001b[39mself\u001b[39;49m\u001b[39m.\u001b[39;49m_auth_headers()\n\u001b[0;32m    <a href='file:///c%3A/Users/nabee/AppData/Roaming/Python/Python310/site-packages/spotipy/client.py?line=222'>223</a>\u001b[0m \u001b[39mif\u001b[39;00m \u001b[39m\"\u001b[39m\u001b[39mcontent_type\u001b[39m\u001b[39m\"\u001b[39m \u001b[39min\u001b[39;00m args[\u001b[39m\"\u001b[39m\u001b[39mparams\u001b[39m\u001b[39m\"\u001b[39m]:\n\u001b[0;32m    <a href='file:///c%3A/Users/nabee/AppData/Roaming/Python/Python310/site-packages/spotipy/client.py?line=223'>224</a>\u001b[0m     headers[\u001b[39m\"\u001b[39m\u001b[39mContent-Type\u001b[39m\u001b[39m\"\u001b[39m] \u001b[39m=\u001b[39m args[\u001b[39m\"\u001b[39m\u001b[39mparams\u001b[39m\u001b[39m\"\u001b[39m][\u001b[39m\"\u001b[39m\u001b[39mcontent_type\u001b[39m\u001b[39m\"\u001b[39m]\n",
      "File \u001b[1;32m~\\AppData\\Roaming\\Python\\Python310\\site-packages\\spotipy\\client.py:212\u001b[0m, in \u001b[0;36mSpotify._auth_headers\u001b[1;34m(self)\u001b[0m\n\u001b[0;32m    <a href='file:///c%3A/Users/nabee/AppData/Roaming/Python/Python310/site-packages/spotipy/client.py?line=209'>210</a>\u001b[0m     \u001b[39mreturn\u001b[39;00m {}\n\u001b[0;32m    <a href='file:///c%3A/Users/nabee/AppData/Roaming/Python/Python310/site-packages/spotipy/client.py?line=210'>211</a>\u001b[0m \u001b[39mtry\u001b[39;00m:\n\u001b[1;32m--> <a href='file:///c%3A/Users/nabee/AppData/Roaming/Python/Python310/site-packages/spotipy/client.py?line=211'>212</a>\u001b[0m     token \u001b[39m=\u001b[39m \u001b[39mself\u001b[39;49m\u001b[39m.\u001b[39;49mauth_manager\u001b[39m.\u001b[39;49mget_access_token(as_dict\u001b[39m=\u001b[39;49m\u001b[39mFalse\u001b[39;49;00m)\n\u001b[0;32m    <a href='file:///c%3A/Users/nabee/AppData/Roaming/Python/Python310/site-packages/spotipy/client.py?line=212'>213</a>\u001b[0m \u001b[39mexcept\u001b[39;00m \u001b[39mTypeError\u001b[39;00m:\n\u001b[0;32m    <a href='file:///c%3A/Users/nabee/AppData/Roaming/Python/Python310/site-packages/spotipy/client.py?line=213'>214</a>\u001b[0m     token \u001b[39m=\u001b[39m \u001b[39mself\u001b[39m\u001b[39m.\u001b[39mauth_manager\u001b[39m.\u001b[39mget_access_token()\n",
      "File \u001b[1;32m~\\AppData\\Roaming\\Python\\Python310\\site-packages\\spotipy\\oauth2.py:535\u001b[0m, in \u001b[0;36mSpotifyOAuth.get_access_token\u001b[1;34m(self, code, as_dict, check_cache)\u001b[0m\n\u001b[0;32m    <a href='file:///c%3A/Users/nabee/AppData/Roaming/Python/Python310/site-packages/spotipy/oauth2.py?line=527'>528</a>\u001b[0m             token_info \u001b[39m=\u001b[39m \u001b[39mself\u001b[39m\u001b[39m.\u001b[39mrefresh_access_token(\n\u001b[0;32m    <a href='file:///c%3A/Users/nabee/AppData/Roaming/Python/Python310/site-packages/spotipy/oauth2.py?line=528'>529</a>\u001b[0m                 token_info[\u001b[39m\"\u001b[39m\u001b[39mrefresh_token\u001b[39m\u001b[39m\"\u001b[39m]\n\u001b[0;32m    <a href='file:///c%3A/Users/nabee/AppData/Roaming/Python/Python310/site-packages/spotipy/oauth2.py?line=529'>530</a>\u001b[0m             )\n\u001b[0;32m    <a href='file:///c%3A/Users/nabee/AppData/Roaming/Python/Python310/site-packages/spotipy/oauth2.py?line=530'>531</a>\u001b[0m         \u001b[39mreturn\u001b[39;00m token_info \u001b[39mif\u001b[39;00m as_dict \u001b[39melse\u001b[39;00m token_info[\u001b[39m\"\u001b[39m\u001b[39maccess_token\u001b[39m\u001b[39m\"\u001b[39m]\n\u001b[0;32m    <a href='file:///c%3A/Users/nabee/AppData/Roaming/Python/Python310/site-packages/spotipy/oauth2.py?line=532'>533</a>\u001b[0m payload \u001b[39m=\u001b[39m {\n\u001b[0;32m    <a href='file:///c%3A/Users/nabee/AppData/Roaming/Python/Python310/site-packages/spotipy/oauth2.py?line=533'>534</a>\u001b[0m     \u001b[39m\"\u001b[39m\u001b[39mredirect_uri\u001b[39m\u001b[39m\"\u001b[39m: \u001b[39mself\u001b[39m\u001b[39m.\u001b[39mredirect_uri,\n\u001b[1;32m--> <a href='file:///c%3A/Users/nabee/AppData/Roaming/Python/Python310/site-packages/spotipy/oauth2.py?line=534'>535</a>\u001b[0m     \u001b[39m\"\u001b[39m\u001b[39mcode\u001b[39m\u001b[39m\"\u001b[39m: code \u001b[39mor\u001b[39;00m \u001b[39mself\u001b[39;49m\u001b[39m.\u001b[39;49mget_auth_response(),\n\u001b[0;32m    <a href='file:///c%3A/Users/nabee/AppData/Roaming/Python/Python310/site-packages/spotipy/oauth2.py?line=535'>536</a>\u001b[0m     \u001b[39m\"\u001b[39m\u001b[39mgrant_type\u001b[39m\u001b[39m\"\u001b[39m: \u001b[39m\"\u001b[39m\u001b[39mauthorization_code\u001b[39m\u001b[39m\"\u001b[39m,\n\u001b[0;32m    <a href='file:///c%3A/Users/nabee/AppData/Roaming/Python/Python310/site-packages/spotipy/oauth2.py?line=536'>537</a>\u001b[0m }\n\u001b[0;32m    <a href='file:///c%3A/Users/nabee/AppData/Roaming/Python/Python310/site-packages/spotipy/oauth2.py?line=537'>538</a>\u001b[0m \u001b[39mif\u001b[39;00m \u001b[39mself\u001b[39m\u001b[39m.\u001b[39mscope:\n\u001b[0;32m    <a href='file:///c%3A/Users/nabee/AppData/Roaming/Python/Python310/site-packages/spotipy/oauth2.py?line=538'>539</a>\u001b[0m     payload[\u001b[39m\"\u001b[39m\u001b[39mscope\u001b[39m\u001b[39m\"\u001b[39m] \u001b[39m=\u001b[39m \u001b[39mself\u001b[39m\u001b[39m.\u001b[39mscope\n",
      "File \u001b[1;32m~\\AppData\\Roaming\\Python\\Python310\\site-packages\\spotipy\\oauth2.py:499\u001b[0m, in \u001b[0;36mSpotifyOAuth.get_auth_response\u001b[1;34m(self, open_browser)\u001b[0m\n\u001b[0;32m    <a href='file:///c%3A/Users/nabee/AppData/Roaming/Python/Python310/site-packages/spotipy/oauth2.py?line=490'>491</a>\u001b[0m     \u001b[39melse\u001b[39;00m:\n\u001b[0;32m    <a href='file:///c%3A/Users/nabee/AppData/Roaming/Python/Python310/site-packages/spotipy/oauth2.py?line=491'>492</a>\u001b[0m         logger\u001b[39m.\u001b[39mwarning(\u001b[39m'\u001b[39m\u001b[39mUsing `\u001b[39m\u001b[39m%s\u001b[39;00m\u001b[39m` as redirect URI without a port. \u001b[39m\u001b[39m'\u001b[39m\n\u001b[0;32m    <a href='file:///c%3A/Users/nabee/AppData/Roaming/Python/Python310/site-packages/spotipy/oauth2.py?line=492'>493</a>\u001b[0m                        \u001b[39m'\u001b[39m\u001b[39mSpecify a port (e.g. `\u001b[39m\u001b[39m%s\u001b[39;00m\u001b[39m:8080`) to allow \u001b[39m\u001b[39m'\u001b[39m\n\u001b[0;32m    <a href='file:///c%3A/Users/nabee/AppData/Roaming/Python/Python310/site-packages/spotipy/oauth2.py?line=493'>494</a>\u001b[0m                        \u001b[39m'\u001b[39m\u001b[39mautomatic retrieval of authentication code \u001b[39m\u001b[39m'\u001b[39m\n\u001b[0;32m    <a href='file:///c%3A/Users/nabee/AppData/Roaming/Python/Python310/site-packages/spotipy/oauth2.py?line=494'>495</a>\u001b[0m                        \u001b[39m'\u001b[39m\u001b[39minstead of having to copy and paste \u001b[39m\u001b[39m'\u001b[39m\n\u001b[0;32m    <a href='file:///c%3A/Users/nabee/AppData/Roaming/Python/Python310/site-packages/spotipy/oauth2.py?line=495'>496</a>\u001b[0m                        \u001b[39m'\u001b[39m\u001b[39mthe URL your browser is redirected to.\u001b[39m\u001b[39m'\u001b[39m,\n\u001b[0;32m    <a href='file:///c%3A/Users/nabee/AppData/Roaming/Python/Python310/site-packages/spotipy/oauth2.py?line=496'>497</a>\u001b[0m                        redirect_host, redirect_host)\n\u001b[1;32m--> <a href='file:///c%3A/Users/nabee/AppData/Roaming/Python/Python310/site-packages/spotipy/oauth2.py?line=498'>499</a>\u001b[0m \u001b[39mreturn\u001b[39;00m \u001b[39mself\u001b[39;49m\u001b[39m.\u001b[39;49m_get_auth_response_interactive(open_browser\u001b[39m=\u001b[39;49mopen_browser)\n",
      "File \u001b[1;32m~\\AppData\\Roaming\\Python\\Python310\\site-packages\\spotipy\\oauth2.py:450\u001b[0m, in \u001b[0;36mSpotifyOAuth._get_auth_response_interactive\u001b[1;34m(self, open_browser)\u001b[0m\n\u001b[0;32m    <a href='file:///c%3A/Users/nabee/AppData/Roaming/Python/Python310/site-packages/spotipy/oauth2.py?line=444'>445</a>\u001b[0m     url \u001b[39m=\u001b[39m \u001b[39mself\u001b[39m\u001b[39m.\u001b[39mget_authorize_url()\n\u001b[0;32m    <a href='file:///c%3A/Users/nabee/AppData/Roaming/Python/Python310/site-packages/spotipy/oauth2.py?line=445'>446</a>\u001b[0m     prompt \u001b[39m=\u001b[39m (\n\u001b[0;32m    <a href='file:///c%3A/Users/nabee/AppData/Roaming/Python/Python310/site-packages/spotipy/oauth2.py?line=446'>447</a>\u001b[0m         \u001b[39m\"\u001b[39m\u001b[39mGo to the following URL: \u001b[39m\u001b[39m{}\u001b[39;00m\u001b[39m\\n\u001b[39;00m\u001b[39m\"\u001b[39m\n\u001b[0;32m    <a href='file:///c%3A/Users/nabee/AppData/Roaming/Python/Python310/site-packages/spotipy/oauth2.py?line=447'>448</a>\u001b[0m         \u001b[39m\"\u001b[39m\u001b[39mEnter the URL you were redirected to: \u001b[39m\u001b[39m\"\u001b[39m\u001b[39m.\u001b[39mformat(url)\n\u001b[0;32m    <a href='file:///c%3A/Users/nabee/AppData/Roaming/Python/Python310/site-packages/spotipy/oauth2.py?line=448'>449</a>\u001b[0m     )\n\u001b[1;32m--> <a href='file:///c%3A/Users/nabee/AppData/Roaming/Python/Python310/site-packages/spotipy/oauth2.py?line=449'>450</a>\u001b[0m response \u001b[39m=\u001b[39m \u001b[39mself\u001b[39;49m\u001b[39m.\u001b[39;49m_get_user_input(prompt)\n\u001b[0;32m    <a href='file:///c%3A/Users/nabee/AppData/Roaming/Python/Python310/site-packages/spotipy/oauth2.py?line=450'>451</a>\u001b[0m state, code \u001b[39m=\u001b[39m SpotifyOAuth\u001b[39m.\u001b[39mparse_auth_response_url(response)\n\u001b[0;32m    <a href='file:///c%3A/Users/nabee/AppData/Roaming/Python/Python310/site-packages/spotipy/oauth2.py?line=451'>452</a>\u001b[0m \u001b[39mif\u001b[39;00m \u001b[39mself\u001b[39m\u001b[39m.\u001b[39mstate \u001b[39mis\u001b[39;00m \u001b[39mnot\u001b[39;00m \u001b[39mNone\u001b[39;00m \u001b[39mand\u001b[39;00m \u001b[39mself\u001b[39m\u001b[39m.\u001b[39mstate \u001b[39m!=\u001b[39m state:\n",
      "File \u001b[1;32m~\\AppData\\Roaming\\Python\\Python310\\site-packages\\spotipy\\oauth2.py:117\u001b[0m, in \u001b[0;36mSpotifyAuthBase._get_user_input\u001b[1;34m(prompt)\u001b[0m\n\u001b[0;32m    <a href='file:///c%3A/Users/nabee/AppData/Roaming/Python/Python310/site-packages/spotipy/oauth2.py?line=114'>115</a>\u001b[0m     \u001b[39mreturn\u001b[39;00m raw_input(prompt)\n\u001b[0;32m    <a href='file:///c%3A/Users/nabee/AppData/Roaming/Python/Python310/site-packages/spotipy/oauth2.py?line=115'>116</a>\u001b[0m \u001b[39mexcept\u001b[39;00m \u001b[39mNameError\u001b[39;00m:\n\u001b[1;32m--> <a href='file:///c%3A/Users/nabee/AppData/Roaming/Python/Python310/site-packages/spotipy/oauth2.py?line=116'>117</a>\u001b[0m     \u001b[39mreturn\u001b[39;00m \u001b[39minput\u001b[39;49m(prompt)\n",
      "File \u001b[1;32m~\\AppData\\Roaming\\Python\\Python310\\site-packages\\ipykernel\\kernelbase.py:1161\u001b[0m, in \u001b[0;36mKernel.raw_input\u001b[1;34m(self, prompt)\u001b[0m\n\u001b[0;32m   <a href='file:///c%3A/Users/nabee/AppData/Roaming/Python/Python310/site-packages/ipykernel/kernelbase.py?line=1156'>1157</a>\u001b[0m \u001b[39mif\u001b[39;00m \u001b[39mnot\u001b[39;00m \u001b[39mself\u001b[39m\u001b[39m.\u001b[39m_allow_stdin:\n\u001b[0;32m   <a href='file:///c%3A/Users/nabee/AppData/Roaming/Python/Python310/site-packages/ipykernel/kernelbase.py?line=1157'>1158</a>\u001b[0m     \u001b[39mraise\u001b[39;00m StdinNotImplementedError(\n\u001b[0;32m   <a href='file:///c%3A/Users/nabee/AppData/Roaming/Python/Python310/site-packages/ipykernel/kernelbase.py?line=1158'>1159</a>\u001b[0m         \u001b[39m\"\u001b[39m\u001b[39mraw_input was called, but this frontend does not support input requests.\u001b[39m\u001b[39m\"\u001b[39m\n\u001b[0;32m   <a href='file:///c%3A/Users/nabee/AppData/Roaming/Python/Python310/site-packages/ipykernel/kernelbase.py?line=1159'>1160</a>\u001b[0m     )\n\u001b[1;32m-> <a href='file:///c%3A/Users/nabee/AppData/Roaming/Python/Python310/site-packages/ipykernel/kernelbase.py?line=1160'>1161</a>\u001b[0m \u001b[39mreturn\u001b[39;00m \u001b[39mself\u001b[39;49m\u001b[39m.\u001b[39;49m_input_request(\n\u001b[0;32m   <a href='file:///c%3A/Users/nabee/AppData/Roaming/Python/Python310/site-packages/ipykernel/kernelbase.py?line=1161'>1162</a>\u001b[0m     \u001b[39mstr\u001b[39;49m(prompt),\n\u001b[0;32m   <a href='file:///c%3A/Users/nabee/AppData/Roaming/Python/Python310/site-packages/ipykernel/kernelbase.py?line=1162'>1163</a>\u001b[0m     \u001b[39mself\u001b[39;49m\u001b[39m.\u001b[39;49m_parent_ident[\u001b[39m\"\u001b[39;49m\u001b[39mshell\u001b[39;49m\u001b[39m\"\u001b[39;49m],\n\u001b[0;32m   <a href='file:///c%3A/Users/nabee/AppData/Roaming/Python/Python310/site-packages/ipykernel/kernelbase.py?line=1163'>1164</a>\u001b[0m     \u001b[39mself\u001b[39;49m\u001b[39m.\u001b[39;49mget_parent(\u001b[39m\"\u001b[39;49m\u001b[39mshell\u001b[39;49m\u001b[39m\"\u001b[39;49m),\n\u001b[0;32m   <a href='file:///c%3A/Users/nabee/AppData/Roaming/Python/Python310/site-packages/ipykernel/kernelbase.py?line=1164'>1165</a>\u001b[0m     password\u001b[39m=\u001b[39;49m\u001b[39mFalse\u001b[39;49;00m,\n\u001b[0;32m   <a href='file:///c%3A/Users/nabee/AppData/Roaming/Python/Python310/site-packages/ipykernel/kernelbase.py?line=1165'>1166</a>\u001b[0m )\n",
      "File \u001b[1;32m~\\AppData\\Roaming\\Python\\Python310\\site-packages\\ipykernel\\kernelbase.py:1205\u001b[0m, in \u001b[0;36mKernel._input_request\u001b[1;34m(self, prompt, ident, parent, password)\u001b[0m\n\u001b[0;32m   <a href='file:///c%3A/Users/nabee/AppData/Roaming/Python/Python310/site-packages/ipykernel/kernelbase.py?line=1201'>1202</a>\u001b[0m             \u001b[39mbreak\u001b[39;00m\n\u001b[0;32m   <a href='file:///c%3A/Users/nabee/AppData/Roaming/Python/Python310/site-packages/ipykernel/kernelbase.py?line=1202'>1203</a>\u001b[0m \u001b[39mexcept\u001b[39;00m \u001b[39mKeyboardInterrupt\u001b[39;00m:\n\u001b[0;32m   <a href='file:///c%3A/Users/nabee/AppData/Roaming/Python/Python310/site-packages/ipykernel/kernelbase.py?line=1203'>1204</a>\u001b[0m     \u001b[39m# re-raise KeyboardInterrupt, to truncate traceback\u001b[39;00m\n\u001b[1;32m-> <a href='file:///c%3A/Users/nabee/AppData/Roaming/Python/Python310/site-packages/ipykernel/kernelbase.py?line=1204'>1205</a>\u001b[0m     \u001b[39mraise\u001b[39;00m \u001b[39mKeyboardInterrupt\u001b[39;00m(\u001b[39m\"\u001b[39m\u001b[39mInterrupted by user\u001b[39m\u001b[39m\"\u001b[39m) \u001b[39mfrom\u001b[39;00m \u001b[39mNone\u001b[39m\n\u001b[0;32m   <a href='file:///c%3A/Users/nabee/AppData/Roaming/Python/Python310/site-packages/ipykernel/kernelbase.py?line=1205'>1206</a>\u001b[0m \u001b[39mexcept\u001b[39;00m \u001b[39mException\u001b[39;00m:\n\u001b[0;32m   <a href='file:///c%3A/Users/nabee/AppData/Roaming/Python/Python310/site-packages/ipykernel/kernelbase.py?line=1206'>1207</a>\u001b[0m     \u001b[39mself\u001b[39m\u001b[39m.\u001b[39mlog\u001b[39m.\u001b[39mwarning(\u001b[39m\"\u001b[39m\u001b[39mInvalid Message:\u001b[39m\u001b[39m\"\u001b[39m, exc_info\u001b[39m=\u001b[39m\u001b[39mTrue\u001b[39;00m)\n",
      "\u001b[1;31mKeyboardInterrupt\u001b[0m: Interrupted by user"
     ]
    }
   ],
   "source": [
    "scope = 'user-top-read'\n",
    "sp = spotipy.Spotify(\n",
    "    auth_manager=SpotifyOAuth(\n",
    "        client_id=client_id,\n",
    "        client_secret= client_secret,\n",
    "        scope=scope,\n",
    "        redirect_uri='https://localhost/'\n",
    "    )\n",
    ")\n",
    "\n",
    "ranges = ['short_term', 'medium_term', 'long_term']\n",
    "\n",
    "for sp_range in ranges:\n",
    "    print(\"range:\",sp_range)\n",
    "    results = sp.current_user_top_tracks(time_range=sp_range, limit=50)\n",
    "    for i, item in enumerate(results['items']):\n",
    "        artist_name.append(item['artists'][0]['name'])\n",
    "        track_name.append(item['name'])\n",
    "        track_id.append(item['id'])\n",
    "        popularity.append(item['popularity'])"
   ]
  },
  {
   "cell_type": "code",
   "execution_count": 7,
   "metadata": {},
   "outputs": [
    {
     "name": "stderr",
     "output_type": "stream",
     "text": [
      "  0%|          | 0/20 [00:26<?, ?it/s]\n"
     ]
    },
    {
     "ename": "KeyboardInterrupt",
     "evalue": "Interrupted by user",
     "output_type": "error",
     "traceback": [
      "\u001b[1;31m---------------------------------------------------------------------------\u001b[0m",
      "\u001b[1;31mKeyboardInterrupt\u001b[0m                         Traceback (most recent call last)",
      "\u001b[1;32mc:\\Users\\nabee\\OneDrive\\Desktop\\music-recommendation\\recommendation\\models\\retrieve_data.ipynb Cell 5'\u001b[0m in \u001b[0;36m<cell line: 2>\u001b[1;34m()\u001b[0m\n\u001b[0;32m      <a href='vscode-notebook-cell:/c%3A/Users/nabee/OneDrive/Desktop/music-recommendation/recommendation/models/retrieve_data.ipynb#ch0000004?line=1'>2</a>\u001b[0m \u001b[39mfor\u001b[39;00m year \u001b[39min\u001b[39;00m years:\n\u001b[0;32m      <a href='vscode-notebook-cell:/c%3A/Users/nabee/OneDrive/Desktop/music-recommendation/recommendation/models/retrieve_data.ipynb#ch0000004?line=2'>3</a>\u001b[0m     \u001b[39mfor\u001b[39;00m i \u001b[39min\u001b[39;00m tqdm(\u001b[39mrange\u001b[39m(\u001b[39m0\u001b[39m, \u001b[39m1000\u001b[39m, \u001b[39m50\u001b[39m)):\n\u001b[1;32m----> <a href='vscode-notebook-cell:/c%3A/Users/nabee/OneDrive/Desktop/music-recommendation/recommendation/models/retrieve_data.ipynb#ch0000004?line=3'>4</a>\u001b[0m         track_results \u001b[39m=\u001b[39m sp\u001b[39m.\u001b[39;49msearch(q\u001b[39m=\u001b[39;49m\u001b[39mf\u001b[39;49m\u001b[39m'\u001b[39;49m\u001b[39myear:\u001b[39;49m\u001b[39m{\u001b[39;49;00myear\u001b[39m}\u001b[39;49;00m\u001b[39m'\u001b[39;49m, \u001b[39mtype\u001b[39;49m\u001b[39m=\u001b[39;49m\u001b[39m'\u001b[39;49m\u001b[39mtrack\u001b[39;49m\u001b[39m'\u001b[39;49m, limit\u001b[39m=\u001b[39;49m\u001b[39m50\u001b[39;49m, offset\u001b[39m=\u001b[39;49mi)\n\u001b[0;32m      <a href='vscode-notebook-cell:/c%3A/Users/nabee/OneDrive/Desktop/music-recommendation/recommendation/models/retrieve_data.ipynb#ch0000004?line=4'>5</a>\u001b[0m         \u001b[39mfor\u001b[39;00m i, t \u001b[39min\u001b[39;00m \u001b[39menumerate\u001b[39m(track_results[\u001b[39m'\u001b[39m\u001b[39mtracks\u001b[39m\u001b[39m'\u001b[39m][\u001b[39m'\u001b[39m\u001b[39mitems\u001b[39m\u001b[39m'\u001b[39m]):\n\u001b[0;32m      <a href='vscode-notebook-cell:/c%3A/Users/nabee/OneDrive/Desktop/music-recommendation/recommendation/models/retrieve_data.ipynb#ch0000004?line=5'>6</a>\u001b[0m             artist_name\u001b[39m.\u001b[39mappend(t[\u001b[39m'\u001b[39m\u001b[39martists\u001b[39m\u001b[39m'\u001b[39m][\u001b[39m0\u001b[39m][\u001b[39m'\u001b[39m\u001b[39mname\u001b[39m\u001b[39m'\u001b[39m])\n",
      "File \u001b[1;32m~\\AppData\\Roaming\\Python\\Python310\\site-packages\\spotipy\\client.py:553\u001b[0m, in \u001b[0;36mSpotify.search\u001b[1;34m(self, q, limit, offset, type, market)\u001b[0m\n\u001b[0;32m    <a href='file:///c%3A/Users/nabee/AppData/Roaming/Python/Python310/site-packages/spotipy/client.py?line=537'>538</a>\u001b[0m \u001b[39mdef\u001b[39;00m \u001b[39msearch\u001b[39m(\u001b[39mself\u001b[39m, q, limit\u001b[39m=\u001b[39m\u001b[39m10\u001b[39m, offset\u001b[39m=\u001b[39m\u001b[39m0\u001b[39m, \u001b[39mtype\u001b[39m\u001b[39m=\u001b[39m\u001b[39m\"\u001b[39m\u001b[39mtrack\u001b[39m\u001b[39m\"\u001b[39m, market\u001b[39m=\u001b[39m\u001b[39mNone\u001b[39;00m):\n\u001b[0;32m    <a href='file:///c%3A/Users/nabee/AppData/Roaming/Python/Python310/site-packages/spotipy/client.py?line=538'>539</a>\u001b[0m     \u001b[39m\"\"\" searches for an item\u001b[39;00m\n\u001b[0;32m    <a href='file:///c%3A/Users/nabee/AppData/Roaming/Python/Python310/site-packages/spotipy/client.py?line=539'>540</a>\u001b[0m \n\u001b[0;32m    <a href='file:///c%3A/Users/nabee/AppData/Roaming/Python/Python310/site-packages/spotipy/client.py?line=540'>541</a>\u001b[0m \u001b[39m        Parameters:\u001b[39;00m\n\u001b[1;32m   (...)\u001b[0m\n\u001b[0;32m    <a href='file:///c%3A/Users/nabee/AppData/Roaming/Python/Python310/site-packages/spotipy/client.py?line=550'>551</a>\u001b[0m \u001b[39m                       from_token.\u001b[39;00m\n\u001b[0;32m    <a href='file:///c%3A/Users/nabee/AppData/Roaming/Python/Python310/site-packages/spotipy/client.py?line=551'>552</a>\u001b[0m \u001b[39m    \"\"\"\u001b[39;00m\n\u001b[1;32m--> <a href='file:///c%3A/Users/nabee/AppData/Roaming/Python/Python310/site-packages/spotipy/client.py?line=552'>553</a>\u001b[0m     \u001b[39mreturn\u001b[39;00m \u001b[39mself\u001b[39;49m\u001b[39m.\u001b[39;49m_get(\n\u001b[0;32m    <a href='file:///c%3A/Users/nabee/AppData/Roaming/Python/Python310/site-packages/spotipy/client.py?line=553'>554</a>\u001b[0m         \u001b[39m\"\u001b[39;49m\u001b[39msearch\u001b[39;49m\u001b[39m\"\u001b[39;49m, q\u001b[39m=\u001b[39;49mq, limit\u001b[39m=\u001b[39;49mlimit, offset\u001b[39m=\u001b[39;49moffset, \u001b[39mtype\u001b[39;49m\u001b[39m=\u001b[39;49m\u001b[39mtype\u001b[39;49m, market\u001b[39m=\u001b[39;49mmarket\n\u001b[0;32m    <a href='file:///c%3A/Users/nabee/AppData/Roaming/Python/Python310/site-packages/spotipy/client.py?line=554'>555</a>\u001b[0m     )\n",
      "File \u001b[1;32m~\\AppData\\Roaming\\Python\\Python310\\site-packages\\spotipy\\client.py:297\u001b[0m, in \u001b[0;36mSpotify._get\u001b[1;34m(self, url, args, payload, **kwargs)\u001b[0m\n\u001b[0;32m    <a href='file:///c%3A/Users/nabee/AppData/Roaming/Python/Python310/site-packages/spotipy/client.py?line=293'>294</a>\u001b[0m \u001b[39mif\u001b[39;00m args:\n\u001b[0;32m    <a href='file:///c%3A/Users/nabee/AppData/Roaming/Python/Python310/site-packages/spotipy/client.py?line=294'>295</a>\u001b[0m     kwargs\u001b[39m.\u001b[39mupdate(args)\n\u001b[1;32m--> <a href='file:///c%3A/Users/nabee/AppData/Roaming/Python/Python310/site-packages/spotipy/client.py?line=296'>297</a>\u001b[0m \u001b[39mreturn\u001b[39;00m \u001b[39mself\u001b[39;49m\u001b[39m.\u001b[39;49m_internal_call(\u001b[39m\"\u001b[39;49m\u001b[39mGET\u001b[39;49m\u001b[39m\"\u001b[39;49m, url, payload, kwargs)\n",
      "File \u001b[1;32m~\\AppData\\Roaming\\Python\\Python310\\site-packages\\spotipy\\client.py:221\u001b[0m, in \u001b[0;36mSpotify._internal_call\u001b[1;34m(self, method, url, payload, params)\u001b[0m\n\u001b[0;32m    <a href='file:///c%3A/Users/nabee/AppData/Roaming/Python/Python310/site-packages/spotipy/client.py?line=218'>219</a>\u001b[0m \u001b[39mif\u001b[39;00m \u001b[39mnot\u001b[39;00m url\u001b[39m.\u001b[39mstartswith(\u001b[39m\"\u001b[39m\u001b[39mhttp\u001b[39m\u001b[39m\"\u001b[39m):\n\u001b[0;32m    <a href='file:///c%3A/Users/nabee/AppData/Roaming/Python/Python310/site-packages/spotipy/client.py?line=219'>220</a>\u001b[0m     url \u001b[39m=\u001b[39m \u001b[39mself\u001b[39m\u001b[39m.\u001b[39mprefix \u001b[39m+\u001b[39m url\n\u001b[1;32m--> <a href='file:///c%3A/Users/nabee/AppData/Roaming/Python/Python310/site-packages/spotipy/client.py?line=220'>221</a>\u001b[0m headers \u001b[39m=\u001b[39m \u001b[39mself\u001b[39;49m\u001b[39m.\u001b[39;49m_auth_headers()\n\u001b[0;32m    <a href='file:///c%3A/Users/nabee/AppData/Roaming/Python/Python310/site-packages/spotipy/client.py?line=222'>223</a>\u001b[0m \u001b[39mif\u001b[39;00m \u001b[39m\"\u001b[39m\u001b[39mcontent_type\u001b[39m\u001b[39m\"\u001b[39m \u001b[39min\u001b[39;00m args[\u001b[39m\"\u001b[39m\u001b[39mparams\u001b[39m\u001b[39m\"\u001b[39m]:\n\u001b[0;32m    <a href='file:///c%3A/Users/nabee/AppData/Roaming/Python/Python310/site-packages/spotipy/client.py?line=223'>224</a>\u001b[0m     headers[\u001b[39m\"\u001b[39m\u001b[39mContent-Type\u001b[39m\u001b[39m\"\u001b[39m] \u001b[39m=\u001b[39m args[\u001b[39m\"\u001b[39m\u001b[39mparams\u001b[39m\u001b[39m\"\u001b[39m][\u001b[39m\"\u001b[39m\u001b[39mcontent_type\u001b[39m\u001b[39m\"\u001b[39m]\n",
      "File \u001b[1;32m~\\AppData\\Roaming\\Python\\Python310\\site-packages\\spotipy\\client.py:212\u001b[0m, in \u001b[0;36mSpotify._auth_headers\u001b[1;34m(self)\u001b[0m\n\u001b[0;32m    <a href='file:///c%3A/Users/nabee/AppData/Roaming/Python/Python310/site-packages/spotipy/client.py?line=209'>210</a>\u001b[0m     \u001b[39mreturn\u001b[39;00m {}\n\u001b[0;32m    <a href='file:///c%3A/Users/nabee/AppData/Roaming/Python/Python310/site-packages/spotipy/client.py?line=210'>211</a>\u001b[0m \u001b[39mtry\u001b[39;00m:\n\u001b[1;32m--> <a href='file:///c%3A/Users/nabee/AppData/Roaming/Python/Python310/site-packages/spotipy/client.py?line=211'>212</a>\u001b[0m     token \u001b[39m=\u001b[39m \u001b[39mself\u001b[39;49m\u001b[39m.\u001b[39;49mauth_manager\u001b[39m.\u001b[39;49mget_access_token(as_dict\u001b[39m=\u001b[39;49m\u001b[39mFalse\u001b[39;49;00m)\n\u001b[0;32m    <a href='file:///c%3A/Users/nabee/AppData/Roaming/Python/Python310/site-packages/spotipy/client.py?line=212'>213</a>\u001b[0m \u001b[39mexcept\u001b[39;00m \u001b[39mTypeError\u001b[39;00m:\n\u001b[0;32m    <a href='file:///c%3A/Users/nabee/AppData/Roaming/Python/Python310/site-packages/spotipy/client.py?line=213'>214</a>\u001b[0m     token \u001b[39m=\u001b[39m \u001b[39mself\u001b[39m\u001b[39m.\u001b[39mauth_manager\u001b[39m.\u001b[39mget_access_token()\n",
      "File \u001b[1;32m~\\AppData\\Roaming\\Python\\Python310\\site-packages\\spotipy\\oauth2.py:535\u001b[0m, in \u001b[0;36mSpotifyOAuth.get_access_token\u001b[1;34m(self, code, as_dict, check_cache)\u001b[0m\n\u001b[0;32m    <a href='file:///c%3A/Users/nabee/AppData/Roaming/Python/Python310/site-packages/spotipy/oauth2.py?line=527'>528</a>\u001b[0m             token_info \u001b[39m=\u001b[39m \u001b[39mself\u001b[39m\u001b[39m.\u001b[39mrefresh_access_token(\n\u001b[0;32m    <a href='file:///c%3A/Users/nabee/AppData/Roaming/Python/Python310/site-packages/spotipy/oauth2.py?line=528'>529</a>\u001b[0m                 token_info[\u001b[39m\"\u001b[39m\u001b[39mrefresh_token\u001b[39m\u001b[39m\"\u001b[39m]\n\u001b[0;32m    <a href='file:///c%3A/Users/nabee/AppData/Roaming/Python/Python310/site-packages/spotipy/oauth2.py?line=529'>530</a>\u001b[0m             )\n\u001b[0;32m    <a href='file:///c%3A/Users/nabee/AppData/Roaming/Python/Python310/site-packages/spotipy/oauth2.py?line=530'>531</a>\u001b[0m         \u001b[39mreturn\u001b[39;00m token_info \u001b[39mif\u001b[39;00m as_dict \u001b[39melse\u001b[39;00m token_info[\u001b[39m\"\u001b[39m\u001b[39maccess_token\u001b[39m\u001b[39m\"\u001b[39m]\n\u001b[0;32m    <a href='file:///c%3A/Users/nabee/AppData/Roaming/Python/Python310/site-packages/spotipy/oauth2.py?line=532'>533</a>\u001b[0m payload \u001b[39m=\u001b[39m {\n\u001b[0;32m    <a href='file:///c%3A/Users/nabee/AppData/Roaming/Python/Python310/site-packages/spotipy/oauth2.py?line=533'>534</a>\u001b[0m     \u001b[39m\"\u001b[39m\u001b[39mredirect_uri\u001b[39m\u001b[39m\"\u001b[39m: \u001b[39mself\u001b[39m\u001b[39m.\u001b[39mredirect_uri,\n\u001b[1;32m--> <a href='file:///c%3A/Users/nabee/AppData/Roaming/Python/Python310/site-packages/spotipy/oauth2.py?line=534'>535</a>\u001b[0m     \u001b[39m\"\u001b[39m\u001b[39mcode\u001b[39m\u001b[39m\"\u001b[39m: code \u001b[39mor\u001b[39;00m \u001b[39mself\u001b[39;49m\u001b[39m.\u001b[39;49mget_auth_response(),\n\u001b[0;32m    <a href='file:///c%3A/Users/nabee/AppData/Roaming/Python/Python310/site-packages/spotipy/oauth2.py?line=535'>536</a>\u001b[0m     \u001b[39m\"\u001b[39m\u001b[39mgrant_type\u001b[39m\u001b[39m\"\u001b[39m: \u001b[39m\"\u001b[39m\u001b[39mauthorization_code\u001b[39m\u001b[39m\"\u001b[39m,\n\u001b[0;32m    <a href='file:///c%3A/Users/nabee/AppData/Roaming/Python/Python310/site-packages/spotipy/oauth2.py?line=536'>537</a>\u001b[0m }\n\u001b[0;32m    <a href='file:///c%3A/Users/nabee/AppData/Roaming/Python/Python310/site-packages/spotipy/oauth2.py?line=537'>538</a>\u001b[0m \u001b[39mif\u001b[39;00m \u001b[39mself\u001b[39m\u001b[39m.\u001b[39mscope:\n\u001b[0;32m    <a href='file:///c%3A/Users/nabee/AppData/Roaming/Python/Python310/site-packages/spotipy/oauth2.py?line=538'>539</a>\u001b[0m     payload[\u001b[39m\"\u001b[39m\u001b[39mscope\u001b[39m\u001b[39m\"\u001b[39m] \u001b[39m=\u001b[39m \u001b[39mself\u001b[39m\u001b[39m.\u001b[39mscope\n",
      "File \u001b[1;32m~\\AppData\\Roaming\\Python\\Python310\\site-packages\\spotipy\\oauth2.py:499\u001b[0m, in \u001b[0;36mSpotifyOAuth.get_auth_response\u001b[1;34m(self, open_browser)\u001b[0m\n\u001b[0;32m    <a href='file:///c%3A/Users/nabee/AppData/Roaming/Python/Python310/site-packages/spotipy/oauth2.py?line=490'>491</a>\u001b[0m     \u001b[39melse\u001b[39;00m:\n\u001b[0;32m    <a href='file:///c%3A/Users/nabee/AppData/Roaming/Python/Python310/site-packages/spotipy/oauth2.py?line=491'>492</a>\u001b[0m         logger\u001b[39m.\u001b[39mwarning(\u001b[39m'\u001b[39m\u001b[39mUsing `\u001b[39m\u001b[39m%s\u001b[39;00m\u001b[39m` as redirect URI without a port. \u001b[39m\u001b[39m'\u001b[39m\n\u001b[0;32m    <a href='file:///c%3A/Users/nabee/AppData/Roaming/Python/Python310/site-packages/spotipy/oauth2.py?line=492'>493</a>\u001b[0m                        \u001b[39m'\u001b[39m\u001b[39mSpecify a port (e.g. `\u001b[39m\u001b[39m%s\u001b[39;00m\u001b[39m:8080`) to allow \u001b[39m\u001b[39m'\u001b[39m\n\u001b[0;32m    <a href='file:///c%3A/Users/nabee/AppData/Roaming/Python/Python310/site-packages/spotipy/oauth2.py?line=493'>494</a>\u001b[0m                        \u001b[39m'\u001b[39m\u001b[39mautomatic retrieval of authentication code \u001b[39m\u001b[39m'\u001b[39m\n\u001b[0;32m    <a href='file:///c%3A/Users/nabee/AppData/Roaming/Python/Python310/site-packages/spotipy/oauth2.py?line=494'>495</a>\u001b[0m                        \u001b[39m'\u001b[39m\u001b[39minstead of having to copy and paste \u001b[39m\u001b[39m'\u001b[39m\n\u001b[0;32m    <a href='file:///c%3A/Users/nabee/AppData/Roaming/Python/Python310/site-packages/spotipy/oauth2.py?line=495'>496</a>\u001b[0m                        \u001b[39m'\u001b[39m\u001b[39mthe URL your browser is redirected to.\u001b[39m\u001b[39m'\u001b[39m,\n\u001b[0;32m    <a href='file:///c%3A/Users/nabee/AppData/Roaming/Python/Python310/site-packages/spotipy/oauth2.py?line=496'>497</a>\u001b[0m                        redirect_host, redirect_host)\n\u001b[1;32m--> <a href='file:///c%3A/Users/nabee/AppData/Roaming/Python/Python310/site-packages/spotipy/oauth2.py?line=498'>499</a>\u001b[0m \u001b[39mreturn\u001b[39;00m \u001b[39mself\u001b[39;49m\u001b[39m.\u001b[39;49m_get_auth_response_interactive(open_browser\u001b[39m=\u001b[39;49mopen_browser)\n",
      "File \u001b[1;32m~\\AppData\\Roaming\\Python\\Python310\\site-packages\\spotipy\\oauth2.py:450\u001b[0m, in \u001b[0;36mSpotifyOAuth._get_auth_response_interactive\u001b[1;34m(self, open_browser)\u001b[0m\n\u001b[0;32m    <a href='file:///c%3A/Users/nabee/AppData/Roaming/Python/Python310/site-packages/spotipy/oauth2.py?line=444'>445</a>\u001b[0m     url \u001b[39m=\u001b[39m \u001b[39mself\u001b[39m\u001b[39m.\u001b[39mget_authorize_url()\n\u001b[0;32m    <a href='file:///c%3A/Users/nabee/AppData/Roaming/Python/Python310/site-packages/spotipy/oauth2.py?line=445'>446</a>\u001b[0m     prompt \u001b[39m=\u001b[39m (\n\u001b[0;32m    <a href='file:///c%3A/Users/nabee/AppData/Roaming/Python/Python310/site-packages/spotipy/oauth2.py?line=446'>447</a>\u001b[0m         \u001b[39m\"\u001b[39m\u001b[39mGo to the following URL: \u001b[39m\u001b[39m{}\u001b[39;00m\u001b[39m\\n\u001b[39;00m\u001b[39m\"\u001b[39m\n\u001b[0;32m    <a href='file:///c%3A/Users/nabee/AppData/Roaming/Python/Python310/site-packages/spotipy/oauth2.py?line=447'>448</a>\u001b[0m         \u001b[39m\"\u001b[39m\u001b[39mEnter the URL you were redirected to: \u001b[39m\u001b[39m\"\u001b[39m\u001b[39m.\u001b[39mformat(url)\n\u001b[0;32m    <a href='file:///c%3A/Users/nabee/AppData/Roaming/Python/Python310/site-packages/spotipy/oauth2.py?line=448'>449</a>\u001b[0m     )\n\u001b[1;32m--> <a href='file:///c%3A/Users/nabee/AppData/Roaming/Python/Python310/site-packages/spotipy/oauth2.py?line=449'>450</a>\u001b[0m response \u001b[39m=\u001b[39m \u001b[39mself\u001b[39;49m\u001b[39m.\u001b[39;49m_get_user_input(prompt)\n\u001b[0;32m    <a href='file:///c%3A/Users/nabee/AppData/Roaming/Python/Python310/site-packages/spotipy/oauth2.py?line=450'>451</a>\u001b[0m state, code \u001b[39m=\u001b[39m SpotifyOAuth\u001b[39m.\u001b[39mparse_auth_response_url(response)\n\u001b[0;32m    <a href='file:///c%3A/Users/nabee/AppData/Roaming/Python/Python310/site-packages/spotipy/oauth2.py?line=451'>452</a>\u001b[0m \u001b[39mif\u001b[39;00m \u001b[39mself\u001b[39m\u001b[39m.\u001b[39mstate \u001b[39mis\u001b[39;00m \u001b[39mnot\u001b[39;00m \u001b[39mNone\u001b[39;00m \u001b[39mand\u001b[39;00m \u001b[39mself\u001b[39m\u001b[39m.\u001b[39mstate \u001b[39m!=\u001b[39m state:\n",
      "File \u001b[1;32m~\\AppData\\Roaming\\Python\\Python310\\site-packages\\spotipy\\oauth2.py:117\u001b[0m, in \u001b[0;36mSpotifyAuthBase._get_user_input\u001b[1;34m(prompt)\u001b[0m\n\u001b[0;32m    <a href='file:///c%3A/Users/nabee/AppData/Roaming/Python/Python310/site-packages/spotipy/oauth2.py?line=114'>115</a>\u001b[0m     \u001b[39mreturn\u001b[39;00m raw_input(prompt)\n\u001b[0;32m    <a href='file:///c%3A/Users/nabee/AppData/Roaming/Python/Python310/site-packages/spotipy/oauth2.py?line=115'>116</a>\u001b[0m \u001b[39mexcept\u001b[39;00m \u001b[39mNameError\u001b[39;00m:\n\u001b[1;32m--> <a href='file:///c%3A/Users/nabee/AppData/Roaming/Python/Python310/site-packages/spotipy/oauth2.py?line=116'>117</a>\u001b[0m     \u001b[39mreturn\u001b[39;00m \u001b[39minput\u001b[39;49m(prompt)\n",
      "File \u001b[1;32m~\\AppData\\Roaming\\Python\\Python310\\site-packages\\ipykernel\\kernelbase.py:1161\u001b[0m, in \u001b[0;36mKernel.raw_input\u001b[1;34m(self, prompt)\u001b[0m\n\u001b[0;32m   <a href='file:///c%3A/Users/nabee/AppData/Roaming/Python/Python310/site-packages/ipykernel/kernelbase.py?line=1156'>1157</a>\u001b[0m \u001b[39mif\u001b[39;00m \u001b[39mnot\u001b[39;00m \u001b[39mself\u001b[39m\u001b[39m.\u001b[39m_allow_stdin:\n\u001b[0;32m   <a href='file:///c%3A/Users/nabee/AppData/Roaming/Python/Python310/site-packages/ipykernel/kernelbase.py?line=1157'>1158</a>\u001b[0m     \u001b[39mraise\u001b[39;00m StdinNotImplementedError(\n\u001b[0;32m   <a href='file:///c%3A/Users/nabee/AppData/Roaming/Python/Python310/site-packages/ipykernel/kernelbase.py?line=1158'>1159</a>\u001b[0m         \u001b[39m\"\u001b[39m\u001b[39mraw_input was called, but this frontend does not support input requests.\u001b[39m\u001b[39m\"\u001b[39m\n\u001b[0;32m   <a href='file:///c%3A/Users/nabee/AppData/Roaming/Python/Python310/site-packages/ipykernel/kernelbase.py?line=1159'>1160</a>\u001b[0m     )\n\u001b[1;32m-> <a href='file:///c%3A/Users/nabee/AppData/Roaming/Python/Python310/site-packages/ipykernel/kernelbase.py?line=1160'>1161</a>\u001b[0m \u001b[39mreturn\u001b[39;00m \u001b[39mself\u001b[39;49m\u001b[39m.\u001b[39;49m_input_request(\n\u001b[0;32m   <a href='file:///c%3A/Users/nabee/AppData/Roaming/Python/Python310/site-packages/ipykernel/kernelbase.py?line=1161'>1162</a>\u001b[0m     \u001b[39mstr\u001b[39;49m(prompt),\n\u001b[0;32m   <a href='file:///c%3A/Users/nabee/AppData/Roaming/Python/Python310/site-packages/ipykernel/kernelbase.py?line=1162'>1163</a>\u001b[0m     \u001b[39mself\u001b[39;49m\u001b[39m.\u001b[39;49m_parent_ident[\u001b[39m\"\u001b[39;49m\u001b[39mshell\u001b[39;49m\u001b[39m\"\u001b[39;49m],\n\u001b[0;32m   <a href='file:///c%3A/Users/nabee/AppData/Roaming/Python/Python310/site-packages/ipykernel/kernelbase.py?line=1163'>1164</a>\u001b[0m     \u001b[39mself\u001b[39;49m\u001b[39m.\u001b[39;49mget_parent(\u001b[39m\"\u001b[39;49m\u001b[39mshell\u001b[39;49m\u001b[39m\"\u001b[39;49m),\n\u001b[0;32m   <a href='file:///c%3A/Users/nabee/AppData/Roaming/Python/Python310/site-packages/ipykernel/kernelbase.py?line=1164'>1165</a>\u001b[0m     password\u001b[39m=\u001b[39;49m\u001b[39mFalse\u001b[39;49;00m,\n\u001b[0;32m   <a href='file:///c%3A/Users/nabee/AppData/Roaming/Python/Python310/site-packages/ipykernel/kernelbase.py?line=1165'>1166</a>\u001b[0m )\n",
      "File \u001b[1;32m~\\AppData\\Roaming\\Python\\Python310\\site-packages\\ipykernel\\kernelbase.py:1205\u001b[0m, in \u001b[0;36mKernel._input_request\u001b[1;34m(self, prompt, ident, parent, password)\u001b[0m\n\u001b[0;32m   <a href='file:///c%3A/Users/nabee/AppData/Roaming/Python/Python310/site-packages/ipykernel/kernelbase.py?line=1201'>1202</a>\u001b[0m             \u001b[39mbreak\u001b[39;00m\n\u001b[0;32m   <a href='file:///c%3A/Users/nabee/AppData/Roaming/Python/Python310/site-packages/ipykernel/kernelbase.py?line=1202'>1203</a>\u001b[0m \u001b[39mexcept\u001b[39;00m \u001b[39mKeyboardInterrupt\u001b[39;00m:\n\u001b[0;32m   <a href='file:///c%3A/Users/nabee/AppData/Roaming/Python/Python310/site-packages/ipykernel/kernelbase.py?line=1203'>1204</a>\u001b[0m     \u001b[39m# re-raise KeyboardInterrupt, to truncate traceback\u001b[39;00m\n\u001b[1;32m-> <a href='file:///c%3A/Users/nabee/AppData/Roaming/Python/Python310/site-packages/ipykernel/kernelbase.py?line=1204'>1205</a>\u001b[0m     \u001b[39mraise\u001b[39;00m \u001b[39mKeyboardInterrupt\u001b[39;00m(\u001b[39m\"\u001b[39m\u001b[39mInterrupted by user\u001b[39m\u001b[39m\"\u001b[39m) \u001b[39mfrom\u001b[39;00m \u001b[39mNone\u001b[39m\n\u001b[0;32m   <a href='file:///c%3A/Users/nabee/AppData/Roaming/Python/Python310/site-packages/ipykernel/kernelbase.py?line=1205'>1206</a>\u001b[0m \u001b[39mexcept\u001b[39;00m \u001b[39mException\u001b[39;00m:\n\u001b[0;32m   <a href='file:///c%3A/Users/nabee/AppData/Roaming/Python/Python310/site-packages/ipykernel/kernelbase.py?line=1206'>1207</a>\u001b[0m     \u001b[39mself\u001b[39m\u001b[39m.\u001b[39mlog\u001b[39m.\u001b[39mwarning(\u001b[39m\"\u001b[39m\u001b[39mInvalid Message:\u001b[39m\u001b[39m\"\u001b[39m, exc_info\u001b[39m=\u001b[39m\u001b[39mTrue\u001b[39;00m)\n",
      "\u001b[1;31mKeyboardInterrupt\u001b[0m: Interrupted by user"
     ]
    }
   ],
   "source": [
    "years = ['2015', '2016', '2017', '2018', '2019', '2020', '2021']\n",
    "for year in years:\n",
    "    for i in tqdm(range(0, 1000, 50)):\n",
    "        track_results = sp.search(q=f'year:{year}', type='track', limit=50, offset=i)\n",
    "        for i, t in enumerate(track_results['tracks']['items']):\n",
    "            artist_name.append(t['artists'][0]['name'])\n",
    "            track_name.append(t['name'])\n",
    "            track_id.append(t['id'])\n",
    "            popularity.append(t['popularity'])"
   ]
  },
  {
   "cell_type": "code",
   "execution_count": 9,
   "metadata": {},
   "outputs": [
    {
     "name": "stdout",
     "output_type": "stream",
     "text": [
      "range: short_term\n"
     ]
    },
    {
     "ename": "KeyboardInterrupt",
     "evalue": "Interrupted by user",
     "output_type": "error",
     "traceback": [
      "\u001b[1;31m---------------------------------------------------------------------------\u001b[0m",
      "\u001b[1;31mKeyboardInterrupt\u001b[0m                         Traceback (most recent call last)",
      "\u001b[1;32mc:\\Users\\nabee\\OneDrive\\Desktop\\music-recommendation\\recommendation\\models\\retrieve_data.ipynb Cell 6'\u001b[0m in \u001b[0;36m<cell line: 3>\u001b[1;34m()\u001b[0m\n\u001b[0;32m      <a href='vscode-notebook-cell:/c%3A/Users/nabee/OneDrive/Desktop/music-recommendation/recommendation/models/retrieve_data.ipynb#ch0000005?line=2'>3</a>\u001b[0m \u001b[39mfor\u001b[39;00m sp_range \u001b[39min\u001b[39;00m [\u001b[39m'\u001b[39m\u001b[39mshort_term\u001b[39m\u001b[39m'\u001b[39m, \u001b[39m'\u001b[39m\u001b[39mmedium_term\u001b[39m\u001b[39m'\u001b[39m, \u001b[39m'\u001b[39m\u001b[39mlong_term\u001b[39m\u001b[39m'\u001b[39m]:\n\u001b[0;32m      <a href='vscode-notebook-cell:/c%3A/Users/nabee/OneDrive/Desktop/music-recommendation/recommendation/models/retrieve_data.ipynb#ch0000005?line=3'>4</a>\u001b[0m     \u001b[39mprint\u001b[39m(\u001b[39m\"\u001b[39m\u001b[39mrange:\u001b[39m\u001b[39m\"\u001b[39m, sp_range)\n\u001b[1;32m----> <a href='vscode-notebook-cell:/c%3A/Users/nabee/OneDrive/Desktop/music-recommendation/recommendation/models/retrieve_data.ipynb#ch0000005?line=5'>6</a>\u001b[0m     results \u001b[39m=\u001b[39m sp\u001b[39m.\u001b[39;49mcurrent_user_top_artists(time_range\u001b[39m=\u001b[39;49msp_range, limit\u001b[39m=\u001b[39;49m\u001b[39m50\u001b[39;49m)\n\u001b[0;32m      <a href='vscode-notebook-cell:/c%3A/Users/nabee/OneDrive/Desktop/music-recommendation/recommendation/models/retrieve_data.ipynb#ch0000005?line=7'>8</a>\u001b[0m     \u001b[39mfor\u001b[39;00m item \u001b[39min\u001b[39;00m results[\u001b[39m'\u001b[39m\u001b[39mitems\u001b[39m\u001b[39m'\u001b[39m]:\n\u001b[0;32m      <a href='vscode-notebook-cell:/c%3A/Users/nabee/OneDrive/Desktop/music-recommendation/recommendation/models/retrieve_data.ipynb#ch0000005?line=8'>9</a>\u001b[0m         top_artists_name\u001b[39m.\u001b[39mappend(item[\u001b[39m'\u001b[39m\u001b[39mname\u001b[39m\u001b[39m'\u001b[39m])\n",
      "File \u001b[1;32m~\\AppData\\Roaming\\Python\\Python310\\site-packages\\spotipy\\client.py:1413\u001b[0m, in \u001b[0;36mSpotify.current_user_top_artists\u001b[1;34m(self, limit, offset, time_range)\u001b[0m\n\u001b[0;32m   <a href='file:///c%3A/Users/nabee/AppData/Roaming/Python/Python310/site-packages/spotipy/client.py?line=1401'>1402</a>\u001b[0m \u001b[39mdef\u001b[39;00m \u001b[39mcurrent_user_top_artists\u001b[39m(\n\u001b[0;32m   <a href='file:///c%3A/Users/nabee/AppData/Roaming/Python/Python310/site-packages/spotipy/client.py?line=1402'>1403</a>\u001b[0m     \u001b[39mself\u001b[39m, limit\u001b[39m=\u001b[39m\u001b[39m20\u001b[39m, offset\u001b[39m=\u001b[39m\u001b[39m0\u001b[39m, time_range\u001b[39m=\u001b[39m\u001b[39m\"\u001b[39m\u001b[39mmedium_term\u001b[39m\u001b[39m\"\u001b[39m\n\u001b[0;32m   <a href='file:///c%3A/Users/nabee/AppData/Roaming/Python/Python310/site-packages/spotipy/client.py?line=1403'>1404</a>\u001b[0m ):\n\u001b[0;32m   <a href='file:///c%3A/Users/nabee/AppData/Roaming/Python/Python310/site-packages/spotipy/client.py?line=1404'>1405</a>\u001b[0m     \u001b[39m\"\"\" Get the current user's top artists\u001b[39;00m\n\u001b[0;32m   <a href='file:///c%3A/Users/nabee/AppData/Roaming/Python/Python310/site-packages/spotipy/client.py?line=1405'>1406</a>\u001b[0m \n\u001b[0;32m   <a href='file:///c%3A/Users/nabee/AppData/Roaming/Python/Python310/site-packages/spotipy/client.py?line=1406'>1407</a>\u001b[0m \u001b[39m        Parameters:\u001b[39;00m\n\u001b[1;32m   (...)\u001b[0m\n\u001b[0;32m   <a href='file:///c%3A/Users/nabee/AppData/Roaming/Python/Python310/site-packages/spotipy/client.py?line=1410'>1411</a>\u001b[0m \u001b[39m              Valid-values: short_term, medium_term, long_term\u001b[39;00m\n\u001b[0;32m   <a href='file:///c%3A/Users/nabee/AppData/Roaming/Python/Python310/site-packages/spotipy/client.py?line=1411'>1412</a>\u001b[0m \u001b[39m    \"\"\"\u001b[39;00m\n\u001b[1;32m-> <a href='file:///c%3A/Users/nabee/AppData/Roaming/Python/Python310/site-packages/spotipy/client.py?line=1412'>1413</a>\u001b[0m     \u001b[39mreturn\u001b[39;00m \u001b[39mself\u001b[39;49m\u001b[39m.\u001b[39;49m_get(\n\u001b[0;32m   <a href='file:///c%3A/Users/nabee/AppData/Roaming/Python/Python310/site-packages/spotipy/client.py?line=1413'>1414</a>\u001b[0m         \u001b[39m\"\u001b[39;49m\u001b[39mme/top/artists\u001b[39;49m\u001b[39m\"\u001b[39;49m, time_range\u001b[39m=\u001b[39;49mtime_range, limit\u001b[39m=\u001b[39;49mlimit, offset\u001b[39m=\u001b[39;49moffset\n\u001b[0;32m   <a href='file:///c%3A/Users/nabee/AppData/Roaming/Python/Python310/site-packages/spotipy/client.py?line=1414'>1415</a>\u001b[0m     )\n",
      "File \u001b[1;32m~\\AppData\\Roaming\\Python\\Python310\\site-packages\\spotipy\\client.py:297\u001b[0m, in \u001b[0;36mSpotify._get\u001b[1;34m(self, url, args, payload, **kwargs)\u001b[0m\n\u001b[0;32m    <a href='file:///c%3A/Users/nabee/AppData/Roaming/Python/Python310/site-packages/spotipy/client.py?line=293'>294</a>\u001b[0m \u001b[39mif\u001b[39;00m args:\n\u001b[0;32m    <a href='file:///c%3A/Users/nabee/AppData/Roaming/Python/Python310/site-packages/spotipy/client.py?line=294'>295</a>\u001b[0m     kwargs\u001b[39m.\u001b[39mupdate(args)\n\u001b[1;32m--> <a href='file:///c%3A/Users/nabee/AppData/Roaming/Python/Python310/site-packages/spotipy/client.py?line=296'>297</a>\u001b[0m \u001b[39mreturn\u001b[39;00m \u001b[39mself\u001b[39;49m\u001b[39m.\u001b[39;49m_internal_call(\u001b[39m\"\u001b[39;49m\u001b[39mGET\u001b[39;49m\u001b[39m\"\u001b[39;49m, url, payload, kwargs)\n",
      "File \u001b[1;32m~\\AppData\\Roaming\\Python\\Python310\\site-packages\\spotipy\\client.py:221\u001b[0m, in \u001b[0;36mSpotify._internal_call\u001b[1;34m(self, method, url, payload, params)\u001b[0m\n\u001b[0;32m    <a href='file:///c%3A/Users/nabee/AppData/Roaming/Python/Python310/site-packages/spotipy/client.py?line=218'>219</a>\u001b[0m \u001b[39mif\u001b[39;00m \u001b[39mnot\u001b[39;00m url\u001b[39m.\u001b[39mstartswith(\u001b[39m\"\u001b[39m\u001b[39mhttp\u001b[39m\u001b[39m\"\u001b[39m):\n\u001b[0;32m    <a href='file:///c%3A/Users/nabee/AppData/Roaming/Python/Python310/site-packages/spotipy/client.py?line=219'>220</a>\u001b[0m     url \u001b[39m=\u001b[39m \u001b[39mself\u001b[39m\u001b[39m.\u001b[39mprefix \u001b[39m+\u001b[39m url\n\u001b[1;32m--> <a href='file:///c%3A/Users/nabee/AppData/Roaming/Python/Python310/site-packages/spotipy/client.py?line=220'>221</a>\u001b[0m headers \u001b[39m=\u001b[39m \u001b[39mself\u001b[39;49m\u001b[39m.\u001b[39;49m_auth_headers()\n\u001b[0;32m    <a href='file:///c%3A/Users/nabee/AppData/Roaming/Python/Python310/site-packages/spotipy/client.py?line=222'>223</a>\u001b[0m \u001b[39mif\u001b[39;00m \u001b[39m\"\u001b[39m\u001b[39mcontent_type\u001b[39m\u001b[39m\"\u001b[39m \u001b[39min\u001b[39;00m args[\u001b[39m\"\u001b[39m\u001b[39mparams\u001b[39m\u001b[39m\"\u001b[39m]:\n\u001b[0;32m    <a href='file:///c%3A/Users/nabee/AppData/Roaming/Python/Python310/site-packages/spotipy/client.py?line=223'>224</a>\u001b[0m     headers[\u001b[39m\"\u001b[39m\u001b[39mContent-Type\u001b[39m\u001b[39m\"\u001b[39m] \u001b[39m=\u001b[39m args[\u001b[39m\"\u001b[39m\u001b[39mparams\u001b[39m\u001b[39m\"\u001b[39m][\u001b[39m\"\u001b[39m\u001b[39mcontent_type\u001b[39m\u001b[39m\"\u001b[39m]\n",
      "File \u001b[1;32m~\\AppData\\Roaming\\Python\\Python310\\site-packages\\spotipy\\client.py:212\u001b[0m, in \u001b[0;36mSpotify._auth_headers\u001b[1;34m(self)\u001b[0m\n\u001b[0;32m    <a href='file:///c%3A/Users/nabee/AppData/Roaming/Python/Python310/site-packages/spotipy/client.py?line=209'>210</a>\u001b[0m     \u001b[39mreturn\u001b[39;00m {}\n\u001b[0;32m    <a href='file:///c%3A/Users/nabee/AppData/Roaming/Python/Python310/site-packages/spotipy/client.py?line=210'>211</a>\u001b[0m \u001b[39mtry\u001b[39;00m:\n\u001b[1;32m--> <a href='file:///c%3A/Users/nabee/AppData/Roaming/Python/Python310/site-packages/spotipy/client.py?line=211'>212</a>\u001b[0m     token \u001b[39m=\u001b[39m \u001b[39mself\u001b[39;49m\u001b[39m.\u001b[39;49mauth_manager\u001b[39m.\u001b[39;49mget_access_token(as_dict\u001b[39m=\u001b[39;49m\u001b[39mFalse\u001b[39;49;00m)\n\u001b[0;32m    <a href='file:///c%3A/Users/nabee/AppData/Roaming/Python/Python310/site-packages/spotipy/client.py?line=212'>213</a>\u001b[0m \u001b[39mexcept\u001b[39;00m \u001b[39mTypeError\u001b[39;00m:\n\u001b[0;32m    <a href='file:///c%3A/Users/nabee/AppData/Roaming/Python/Python310/site-packages/spotipy/client.py?line=213'>214</a>\u001b[0m     token \u001b[39m=\u001b[39m \u001b[39mself\u001b[39m\u001b[39m.\u001b[39mauth_manager\u001b[39m.\u001b[39mget_access_token()\n",
      "File \u001b[1;32m~\\AppData\\Roaming\\Python\\Python310\\site-packages\\spotipy\\oauth2.py:535\u001b[0m, in \u001b[0;36mSpotifyOAuth.get_access_token\u001b[1;34m(self, code, as_dict, check_cache)\u001b[0m\n\u001b[0;32m    <a href='file:///c%3A/Users/nabee/AppData/Roaming/Python/Python310/site-packages/spotipy/oauth2.py?line=527'>528</a>\u001b[0m             token_info \u001b[39m=\u001b[39m \u001b[39mself\u001b[39m\u001b[39m.\u001b[39mrefresh_access_token(\n\u001b[0;32m    <a href='file:///c%3A/Users/nabee/AppData/Roaming/Python/Python310/site-packages/spotipy/oauth2.py?line=528'>529</a>\u001b[0m                 token_info[\u001b[39m\"\u001b[39m\u001b[39mrefresh_token\u001b[39m\u001b[39m\"\u001b[39m]\n\u001b[0;32m    <a href='file:///c%3A/Users/nabee/AppData/Roaming/Python/Python310/site-packages/spotipy/oauth2.py?line=529'>530</a>\u001b[0m             )\n\u001b[0;32m    <a href='file:///c%3A/Users/nabee/AppData/Roaming/Python/Python310/site-packages/spotipy/oauth2.py?line=530'>531</a>\u001b[0m         \u001b[39mreturn\u001b[39;00m token_info \u001b[39mif\u001b[39;00m as_dict \u001b[39melse\u001b[39;00m token_info[\u001b[39m\"\u001b[39m\u001b[39maccess_token\u001b[39m\u001b[39m\"\u001b[39m]\n\u001b[0;32m    <a href='file:///c%3A/Users/nabee/AppData/Roaming/Python/Python310/site-packages/spotipy/oauth2.py?line=532'>533</a>\u001b[0m payload \u001b[39m=\u001b[39m {\n\u001b[0;32m    <a href='file:///c%3A/Users/nabee/AppData/Roaming/Python/Python310/site-packages/spotipy/oauth2.py?line=533'>534</a>\u001b[0m     \u001b[39m\"\u001b[39m\u001b[39mredirect_uri\u001b[39m\u001b[39m\"\u001b[39m: \u001b[39mself\u001b[39m\u001b[39m.\u001b[39mredirect_uri,\n\u001b[1;32m--> <a href='file:///c%3A/Users/nabee/AppData/Roaming/Python/Python310/site-packages/spotipy/oauth2.py?line=534'>535</a>\u001b[0m     \u001b[39m\"\u001b[39m\u001b[39mcode\u001b[39m\u001b[39m\"\u001b[39m: code \u001b[39mor\u001b[39;00m \u001b[39mself\u001b[39;49m\u001b[39m.\u001b[39;49mget_auth_response(),\n\u001b[0;32m    <a href='file:///c%3A/Users/nabee/AppData/Roaming/Python/Python310/site-packages/spotipy/oauth2.py?line=535'>536</a>\u001b[0m     \u001b[39m\"\u001b[39m\u001b[39mgrant_type\u001b[39m\u001b[39m\"\u001b[39m: \u001b[39m\"\u001b[39m\u001b[39mauthorization_code\u001b[39m\u001b[39m\"\u001b[39m,\n\u001b[0;32m    <a href='file:///c%3A/Users/nabee/AppData/Roaming/Python/Python310/site-packages/spotipy/oauth2.py?line=536'>537</a>\u001b[0m }\n\u001b[0;32m    <a href='file:///c%3A/Users/nabee/AppData/Roaming/Python/Python310/site-packages/spotipy/oauth2.py?line=537'>538</a>\u001b[0m \u001b[39mif\u001b[39;00m \u001b[39mself\u001b[39m\u001b[39m.\u001b[39mscope:\n\u001b[0;32m    <a href='file:///c%3A/Users/nabee/AppData/Roaming/Python/Python310/site-packages/spotipy/oauth2.py?line=538'>539</a>\u001b[0m     payload[\u001b[39m\"\u001b[39m\u001b[39mscope\u001b[39m\u001b[39m\"\u001b[39m] \u001b[39m=\u001b[39m \u001b[39mself\u001b[39m\u001b[39m.\u001b[39mscope\n",
      "File \u001b[1;32m~\\AppData\\Roaming\\Python\\Python310\\site-packages\\spotipy\\oauth2.py:499\u001b[0m, in \u001b[0;36mSpotifyOAuth.get_auth_response\u001b[1;34m(self, open_browser)\u001b[0m\n\u001b[0;32m    <a href='file:///c%3A/Users/nabee/AppData/Roaming/Python/Python310/site-packages/spotipy/oauth2.py?line=490'>491</a>\u001b[0m     \u001b[39melse\u001b[39;00m:\n\u001b[0;32m    <a href='file:///c%3A/Users/nabee/AppData/Roaming/Python/Python310/site-packages/spotipy/oauth2.py?line=491'>492</a>\u001b[0m         logger\u001b[39m.\u001b[39mwarning(\u001b[39m'\u001b[39m\u001b[39mUsing `\u001b[39m\u001b[39m%s\u001b[39;00m\u001b[39m` as redirect URI without a port. \u001b[39m\u001b[39m'\u001b[39m\n\u001b[0;32m    <a href='file:///c%3A/Users/nabee/AppData/Roaming/Python/Python310/site-packages/spotipy/oauth2.py?line=492'>493</a>\u001b[0m                        \u001b[39m'\u001b[39m\u001b[39mSpecify a port (e.g. `\u001b[39m\u001b[39m%s\u001b[39;00m\u001b[39m:8080`) to allow \u001b[39m\u001b[39m'\u001b[39m\n\u001b[0;32m    <a href='file:///c%3A/Users/nabee/AppData/Roaming/Python/Python310/site-packages/spotipy/oauth2.py?line=493'>494</a>\u001b[0m                        \u001b[39m'\u001b[39m\u001b[39mautomatic retrieval of authentication code \u001b[39m\u001b[39m'\u001b[39m\n\u001b[0;32m    <a href='file:///c%3A/Users/nabee/AppData/Roaming/Python/Python310/site-packages/spotipy/oauth2.py?line=494'>495</a>\u001b[0m                        \u001b[39m'\u001b[39m\u001b[39minstead of having to copy and paste \u001b[39m\u001b[39m'\u001b[39m\n\u001b[0;32m    <a href='file:///c%3A/Users/nabee/AppData/Roaming/Python/Python310/site-packages/spotipy/oauth2.py?line=495'>496</a>\u001b[0m                        \u001b[39m'\u001b[39m\u001b[39mthe URL your browser is redirected to.\u001b[39m\u001b[39m'\u001b[39m,\n\u001b[0;32m    <a href='file:///c%3A/Users/nabee/AppData/Roaming/Python/Python310/site-packages/spotipy/oauth2.py?line=496'>497</a>\u001b[0m                        redirect_host, redirect_host)\n\u001b[1;32m--> <a href='file:///c%3A/Users/nabee/AppData/Roaming/Python/Python310/site-packages/spotipy/oauth2.py?line=498'>499</a>\u001b[0m \u001b[39mreturn\u001b[39;00m \u001b[39mself\u001b[39;49m\u001b[39m.\u001b[39;49m_get_auth_response_interactive(open_browser\u001b[39m=\u001b[39;49mopen_browser)\n",
      "File \u001b[1;32m~\\AppData\\Roaming\\Python\\Python310\\site-packages\\spotipy\\oauth2.py:450\u001b[0m, in \u001b[0;36mSpotifyOAuth._get_auth_response_interactive\u001b[1;34m(self, open_browser)\u001b[0m\n\u001b[0;32m    <a href='file:///c%3A/Users/nabee/AppData/Roaming/Python/Python310/site-packages/spotipy/oauth2.py?line=444'>445</a>\u001b[0m     url \u001b[39m=\u001b[39m \u001b[39mself\u001b[39m\u001b[39m.\u001b[39mget_authorize_url()\n\u001b[0;32m    <a href='file:///c%3A/Users/nabee/AppData/Roaming/Python/Python310/site-packages/spotipy/oauth2.py?line=445'>446</a>\u001b[0m     prompt \u001b[39m=\u001b[39m (\n\u001b[0;32m    <a href='file:///c%3A/Users/nabee/AppData/Roaming/Python/Python310/site-packages/spotipy/oauth2.py?line=446'>447</a>\u001b[0m         \u001b[39m\"\u001b[39m\u001b[39mGo to the following URL: \u001b[39m\u001b[39m{}\u001b[39;00m\u001b[39m\\n\u001b[39;00m\u001b[39m\"\u001b[39m\n\u001b[0;32m    <a href='file:///c%3A/Users/nabee/AppData/Roaming/Python/Python310/site-packages/spotipy/oauth2.py?line=447'>448</a>\u001b[0m         \u001b[39m\"\u001b[39m\u001b[39mEnter the URL you were redirected to: \u001b[39m\u001b[39m\"\u001b[39m\u001b[39m.\u001b[39mformat(url)\n\u001b[0;32m    <a href='file:///c%3A/Users/nabee/AppData/Roaming/Python/Python310/site-packages/spotipy/oauth2.py?line=448'>449</a>\u001b[0m     )\n\u001b[1;32m--> <a href='file:///c%3A/Users/nabee/AppData/Roaming/Python/Python310/site-packages/spotipy/oauth2.py?line=449'>450</a>\u001b[0m response \u001b[39m=\u001b[39m \u001b[39mself\u001b[39;49m\u001b[39m.\u001b[39;49m_get_user_input(prompt)\n\u001b[0;32m    <a href='file:///c%3A/Users/nabee/AppData/Roaming/Python/Python310/site-packages/spotipy/oauth2.py?line=450'>451</a>\u001b[0m state, code \u001b[39m=\u001b[39m SpotifyOAuth\u001b[39m.\u001b[39mparse_auth_response_url(response)\n\u001b[0;32m    <a href='file:///c%3A/Users/nabee/AppData/Roaming/Python/Python310/site-packages/spotipy/oauth2.py?line=451'>452</a>\u001b[0m \u001b[39mif\u001b[39;00m \u001b[39mself\u001b[39m\u001b[39m.\u001b[39mstate \u001b[39mis\u001b[39;00m \u001b[39mnot\u001b[39;00m \u001b[39mNone\u001b[39;00m \u001b[39mand\u001b[39;00m \u001b[39mself\u001b[39m\u001b[39m.\u001b[39mstate \u001b[39m!=\u001b[39m state:\n",
      "File \u001b[1;32m~\\AppData\\Roaming\\Python\\Python310\\site-packages\\spotipy\\oauth2.py:117\u001b[0m, in \u001b[0;36mSpotifyAuthBase._get_user_input\u001b[1;34m(prompt)\u001b[0m\n\u001b[0;32m    <a href='file:///c%3A/Users/nabee/AppData/Roaming/Python/Python310/site-packages/spotipy/oauth2.py?line=114'>115</a>\u001b[0m     \u001b[39mreturn\u001b[39;00m raw_input(prompt)\n\u001b[0;32m    <a href='file:///c%3A/Users/nabee/AppData/Roaming/Python/Python310/site-packages/spotipy/oauth2.py?line=115'>116</a>\u001b[0m \u001b[39mexcept\u001b[39;00m \u001b[39mNameError\u001b[39;00m:\n\u001b[1;32m--> <a href='file:///c%3A/Users/nabee/AppData/Roaming/Python/Python310/site-packages/spotipy/oauth2.py?line=116'>117</a>\u001b[0m     \u001b[39mreturn\u001b[39;00m \u001b[39minput\u001b[39;49m(prompt)\n",
      "File \u001b[1;32m~\\AppData\\Roaming\\Python\\Python310\\site-packages\\ipykernel\\kernelbase.py:1161\u001b[0m, in \u001b[0;36mKernel.raw_input\u001b[1;34m(self, prompt)\u001b[0m\n\u001b[0;32m   <a href='file:///c%3A/Users/nabee/AppData/Roaming/Python/Python310/site-packages/ipykernel/kernelbase.py?line=1156'>1157</a>\u001b[0m \u001b[39mif\u001b[39;00m \u001b[39mnot\u001b[39;00m \u001b[39mself\u001b[39m\u001b[39m.\u001b[39m_allow_stdin:\n\u001b[0;32m   <a href='file:///c%3A/Users/nabee/AppData/Roaming/Python/Python310/site-packages/ipykernel/kernelbase.py?line=1157'>1158</a>\u001b[0m     \u001b[39mraise\u001b[39;00m StdinNotImplementedError(\n\u001b[0;32m   <a href='file:///c%3A/Users/nabee/AppData/Roaming/Python/Python310/site-packages/ipykernel/kernelbase.py?line=1158'>1159</a>\u001b[0m         \u001b[39m\"\u001b[39m\u001b[39mraw_input was called, but this frontend does not support input requests.\u001b[39m\u001b[39m\"\u001b[39m\n\u001b[0;32m   <a href='file:///c%3A/Users/nabee/AppData/Roaming/Python/Python310/site-packages/ipykernel/kernelbase.py?line=1159'>1160</a>\u001b[0m     )\n\u001b[1;32m-> <a href='file:///c%3A/Users/nabee/AppData/Roaming/Python/Python310/site-packages/ipykernel/kernelbase.py?line=1160'>1161</a>\u001b[0m \u001b[39mreturn\u001b[39;00m \u001b[39mself\u001b[39;49m\u001b[39m.\u001b[39;49m_input_request(\n\u001b[0;32m   <a href='file:///c%3A/Users/nabee/AppData/Roaming/Python/Python310/site-packages/ipykernel/kernelbase.py?line=1161'>1162</a>\u001b[0m     \u001b[39mstr\u001b[39;49m(prompt),\n\u001b[0;32m   <a href='file:///c%3A/Users/nabee/AppData/Roaming/Python/Python310/site-packages/ipykernel/kernelbase.py?line=1162'>1163</a>\u001b[0m     \u001b[39mself\u001b[39;49m\u001b[39m.\u001b[39;49m_parent_ident[\u001b[39m\"\u001b[39;49m\u001b[39mshell\u001b[39;49m\u001b[39m\"\u001b[39;49m],\n\u001b[0;32m   <a href='file:///c%3A/Users/nabee/AppData/Roaming/Python/Python310/site-packages/ipykernel/kernelbase.py?line=1163'>1164</a>\u001b[0m     \u001b[39mself\u001b[39;49m\u001b[39m.\u001b[39;49mget_parent(\u001b[39m\"\u001b[39;49m\u001b[39mshell\u001b[39;49m\u001b[39m\"\u001b[39;49m),\n\u001b[0;32m   <a href='file:///c%3A/Users/nabee/AppData/Roaming/Python/Python310/site-packages/ipykernel/kernelbase.py?line=1164'>1165</a>\u001b[0m     password\u001b[39m=\u001b[39;49m\u001b[39mFalse\u001b[39;49;00m,\n\u001b[0;32m   <a href='file:///c%3A/Users/nabee/AppData/Roaming/Python/Python310/site-packages/ipykernel/kernelbase.py?line=1165'>1166</a>\u001b[0m )\n",
      "File \u001b[1;32m~\\AppData\\Roaming\\Python\\Python310\\site-packages\\ipykernel\\kernelbase.py:1205\u001b[0m, in \u001b[0;36mKernel._input_request\u001b[1;34m(self, prompt, ident, parent, password)\u001b[0m\n\u001b[0;32m   <a href='file:///c%3A/Users/nabee/AppData/Roaming/Python/Python310/site-packages/ipykernel/kernelbase.py?line=1201'>1202</a>\u001b[0m             \u001b[39mbreak\u001b[39;00m\n\u001b[0;32m   <a href='file:///c%3A/Users/nabee/AppData/Roaming/Python/Python310/site-packages/ipykernel/kernelbase.py?line=1202'>1203</a>\u001b[0m \u001b[39mexcept\u001b[39;00m \u001b[39mKeyboardInterrupt\u001b[39;00m:\n\u001b[0;32m   <a href='file:///c%3A/Users/nabee/AppData/Roaming/Python/Python310/site-packages/ipykernel/kernelbase.py?line=1203'>1204</a>\u001b[0m     \u001b[39m# re-raise KeyboardInterrupt, to truncate traceback\u001b[39;00m\n\u001b[1;32m-> <a href='file:///c%3A/Users/nabee/AppData/Roaming/Python/Python310/site-packages/ipykernel/kernelbase.py?line=1204'>1205</a>\u001b[0m     \u001b[39mraise\u001b[39;00m \u001b[39mKeyboardInterrupt\u001b[39;00m(\u001b[39m\"\u001b[39m\u001b[39mInterrupted by user\u001b[39m\u001b[39m\"\u001b[39m) \u001b[39mfrom\u001b[39;00m \u001b[39mNone\u001b[39m\n\u001b[0;32m   <a href='file:///c%3A/Users/nabee/AppData/Roaming/Python/Python310/site-packages/ipykernel/kernelbase.py?line=1205'>1206</a>\u001b[0m \u001b[39mexcept\u001b[39;00m \u001b[39mException\u001b[39;00m:\n\u001b[0;32m   <a href='file:///c%3A/Users/nabee/AppData/Roaming/Python/Python310/site-packages/ipykernel/kernelbase.py?line=1206'>1207</a>\u001b[0m     \u001b[39mself\u001b[39m\u001b[39m.\u001b[39mlog\u001b[39m.\u001b[39mwarning(\u001b[39m\"\u001b[39m\u001b[39mInvalid Message:\u001b[39m\u001b[39m\"\u001b[39m, exc_info\u001b[39m=\u001b[39m\u001b[39mTrue\u001b[39;00m)\n",
      "\u001b[1;31mKeyboardInterrupt\u001b[0m: Interrupted by user"
     ]
    }
   ],
   "source": [
    "top_artists_name = []\n",
    "top_artist_uri = []\n",
    "for sp_range in ['short_term', 'medium_term', 'long_term']:\n",
    "    print(\"range:\", sp_range)\n",
    "\n",
    "    results = sp.current_user_top_artists(time_range=sp_range, limit=50)\n",
    "\n",
    "    for item in results['items']:\n",
    "        top_artists_name.append(item['name'])\n",
    "        top_artist_uri.append(item['uri'])\n",
    "\n",
    "print(top_artists_name)\n",
    "print(top_artist_uri)"
   ]
  },
  {
   "cell_type": "code",
   "execution_count": 8,
   "metadata": {},
   "outputs": [
    {
     "ename": "NameError",
     "evalue": "name 'top_artists_name' is not defined",
     "output_type": "error",
     "traceback": [
      "\u001b[1;31m---------------------------------------------------------------------------\u001b[0m",
      "\u001b[1;31mNameError\u001b[0m                                 Traceback (most recent call last)",
      "\u001b[1;32mc:\\Users\\nabee\\OneDrive\\Desktop\\music-recommendation\\recommendation\\models\\retrieve_data.ipynb Cell 7'\u001b[0m in \u001b[0;36m<cell line: 1>\u001b[1;34m()\u001b[0m\n\u001b[1;32m----> <a href='vscode-notebook-cell:/c%3A/Users/nabee/OneDrive/Desktop/music-recommendation/recommendation/models/retrieve_data.ipynb#ch0000006?line=0'>1</a>\u001b[0m \u001b[39mfor\u001b[39;00m artist, uri \u001b[39min\u001b[39;00m tqdm(\u001b[39mzip\u001b[39m(top_artists_name, top_artist_uri), total\u001b[39m=\u001b[39m\u001b[39mlen\u001b[39m(top_artist_uri)):\n\u001b[0;32m      <a href='vscode-notebook-cell:/c%3A/Users/nabee/OneDrive/Desktop/music-recommendation/recommendation/models/retrieve_data.ipynb#ch0000006?line=1'>2</a>\u001b[0m     response \u001b[39m=\u001b[39m sp\u001b[39m.\u001b[39martist_top_tracks(uri, country\u001b[39m=\u001b[39m\u001b[39m'\u001b[39m\u001b[39mIN\u001b[39m\u001b[39m'\u001b[39m)\n\u001b[0;32m      <a href='vscode-notebook-cell:/c%3A/Users/nabee/OneDrive/Desktop/music-recommendation/recommendation/models/retrieve_data.ipynb#ch0000006?line=2'>3</a>\u001b[0m     \u001b[39mfor\u001b[39;00m track \u001b[39min\u001b[39;00m response[\u001b[39m'\u001b[39m\u001b[39mtracks\u001b[39m\u001b[39m'\u001b[39m]:\n",
      "\u001b[1;31mNameError\u001b[0m: name 'top_artists_name' is not defined"
     ]
    }
   ],
   "source": [
    "for artist, uri in tqdm(zip(top_artists_name, top_artist_uri), total=len(top_artist_uri)):\n",
    "    response = sp.artist_top_tracks(uri, country='NP')\n",
    "    for track in response['tracks']:\n",
    "        artist_name.append(artist)\n",
    "        track_name.append(track['name'])\n",
    "        track_id.append(track['id'])\n",
    "        popularity.append(track['popularity'])"
   ]
  },
  {
   "cell_type": "code",
   "execution_count": 10,
   "metadata": {},
   "outputs": [
    {
     "name": "stdout",
     "output_type": "stream",
     "text": [
      "(0, 4)\n"
     ]
    },
    {
     "data": {
      "text/html": [
       "<div>\n",
       "<style scoped>\n",
       "    .dataframe tbody tr th:only-of-type {\n",
       "        vertical-align: middle;\n",
       "    }\n",
       "\n",
       "    .dataframe tbody tr th {\n",
       "        vertical-align: top;\n",
       "    }\n",
       "\n",
       "    .dataframe thead th {\n",
       "        text-align: right;\n",
       "    }\n",
       "</style>\n",
       "<table border=\"1\" class=\"dataframe\">\n",
       "  <thead>\n",
       "    <tr style=\"text-align: right;\">\n",
       "      <th></th>\n",
       "      <th>artist_name</th>\n",
       "      <th>track_name</th>\n",
       "      <th>track_id</th>\n",
       "      <th>popularity</th>\n",
       "    </tr>\n",
       "  </thead>\n",
       "  <tbody>\n",
       "  </tbody>\n",
       "</table>\n",
       "</div>"
      ],
      "text/plain": [
       "Empty DataFrame\n",
       "Columns: [artist_name, track_name, track_id, popularity]\n",
       "Index: []"
      ]
     },
     "execution_count": 10,
     "metadata": {},
     "output_type": "execute_result"
    }
   ],
   "source": [
    "df_tracks = pd.DataFrame(\n",
    "    {\n",
    "        'artist_name': artist_name,\n",
    "        'track_name':track_name,\n",
    "        'track_id':track_id,\n",
    "        'popularity':popularity\n",
    "    }\n",
    ")\n",
    "print(df_tracks.shape)\n",
    "df_tracks"
   ]
  },
  {
   "cell_type": "code",
   "execution_count": 11,
   "metadata": {},
   "outputs": [
    {
     "name": "stdout",
     "output_type": "stream",
     "text": [
      "<class 'pandas.core.frame.DataFrame'>\n",
      "RangeIndex: 0 entries\n",
      "Data columns (total 4 columns):\n",
      " #   Column       Non-Null Count  Dtype  \n",
      "---  ------       --------------  -----  \n",
      " 0   artist_name  0 non-null      float64\n",
      " 1   track_name   0 non-null      float64\n",
      " 2   track_id     0 non-null      float64\n",
      " 3   popularity   0 non-null      float64\n",
      "dtypes: float64(4)\n",
      "memory usage: 124.0 bytes\n"
     ]
    }
   ],
   "source": [
    "df_tracks.info()"
   ]
  },
  {
   "cell_type": "code",
   "execution_count": 12,
   "metadata": {},
   "outputs": [
    {
     "data": {
      "text/plain": [
       "0"
      ]
     },
     "execution_count": 12,
     "metadata": {},
     "output_type": "execute_result"
    }
   ],
   "source": [
    "grouped = df_tracks.groupby(['artist_name','track_name'], as_index=True).size()\n",
    "grouped[grouped > 1].count()"
   ]
  },
  {
   "cell_type": "code",
   "execution_count": 13,
   "metadata": {},
   "outputs": [
    {
     "data": {
      "text/plain": [
       "(0, 4)"
      ]
     },
     "execution_count": 13,
     "metadata": {},
     "output_type": "execute_result"
    }
   ],
   "source": [
    "df_tracks.shape "
   ]
  },
  {
   "cell_type": "code",
   "execution_count": 14,
   "metadata": {},
   "outputs": [
    {
     "name": "stdout",
     "output_type": "stream",
     "text": [
      "Number of tracks where no audio features were available: 0\n"
     ]
    }
   ],
   "source": [
    "rows = []\n",
    "batchsize = 100\n",
    "None_counter = 0\n",
    "\n",
    "for i in range(0,len(df_tracks['track_id']),batchsize):\n",
    "    batch = df_tracks['track_id'][i: i+batchsize]\n",
    "    feature_results = sp.audio_features(batch)\n",
    "    for i, t in enumerate(feature_results):\n",
    "        if t == None:\n",
    "            None_counter = None_counter + 1\n",
    "        else:\n",
    "            rows.append(t)\n",
    "            \n",
    "print('Number of tracks where no audio features were available:', None_counter)"
   ]
  },
  {
   "cell_type": "code",
   "execution_count": 15,
   "metadata": {},
   "outputs": [
    {
     "name": "stdout",
     "output_type": "stream",
     "text": [
      "number of elements in the track_id list: 0\n"
     ]
    }
   ],
   "source": [
    "print('number of elements in the track_id list:', len(rows))"
   ]
  },
  {
   "cell_type": "code",
   "execution_count": 16,
   "metadata": {},
   "outputs": [
    {
     "name": "stdout",
     "output_type": "stream",
     "text": [
      "Shape of the dataset: (0, 0)\n"
     ]
    },
    {
     "data": {
      "text/html": [
       "<div>\n",
       "<style scoped>\n",
       "    .dataframe tbody tr th:only-of-type {\n",
       "        vertical-align: middle;\n",
       "    }\n",
       "\n",
       "    .dataframe tbody tr th {\n",
       "        vertical-align: top;\n",
       "    }\n",
       "\n",
       "    .dataframe thead th {\n",
       "        text-align: right;\n",
       "    }\n",
       "</style>\n",
       "<table border=\"1\" class=\"dataframe\">\n",
       "  <thead>\n",
       "    <tr style=\"text-align: right;\">\n",
       "      <th></th>\n",
       "    </tr>\n",
       "  </thead>\n",
       "  <tbody>\n",
       "  </tbody>\n",
       "</table>\n",
       "</div>"
      ],
      "text/plain": [
       "Empty DataFrame\n",
       "Columns: []\n",
       "Index: []"
      ]
     },
     "execution_count": 16,
     "metadata": {},
     "output_type": "execute_result"
    }
   ],
   "source": [
    "audio_features_df = pd.DataFrame.from_dict(rows, orient='columns')\n",
    "print(\"Shape of the dataset:\", audio_features_df.shape)\n",
    "audio_features_df"
   ]
  },
  {
   "cell_type": "code",
   "execution_count": 17,
   "metadata": {},
   "outputs": [
    {
     "name": "stdout",
     "output_type": "stream",
     "text": [
      "<class 'pandas.core.frame.DataFrame'>\n",
      "Index: 0 entries\n",
      "Empty DataFrame"
     ]
    }
   ],
   "source": [
    "audio_features_df.info()"
   ]
  },
  {
   "cell_type": "code",
   "execution_count": 18,
   "metadata": {},
   "outputs": [
    {
     "ename": "KeyError",
     "evalue": "\"['analysis_url', 'track_href', 'type', 'uri'] not found in axis\"",
     "output_type": "error",
     "traceback": [
      "\u001b[1;31m---------------------------------------------------------------------------\u001b[0m",
      "\u001b[1;31mKeyError\u001b[0m                                  Traceback (most recent call last)",
      "\u001b[1;32mc:\\Users\\nabee\\OneDrive\\Desktop\\music-recommendation\\recommendation\\models\\retrieve_data.ipynb Cell 16'\u001b[0m in \u001b[0;36m<cell line: 2>\u001b[1;34m()\u001b[0m\n\u001b[0;32m      <a href='vscode-notebook-cell:/c%3A/Users/nabee/OneDrive/Desktop/music-recommendation/recommendation/models/retrieve_data.ipynb#ch0000015?line=0'>1</a>\u001b[0m columns_to_drop \u001b[39m=\u001b[39m [\u001b[39m'\u001b[39m\u001b[39manalysis_url\u001b[39m\u001b[39m'\u001b[39m, \u001b[39m'\u001b[39m\u001b[39mtrack_href\u001b[39m\u001b[39m'\u001b[39m, \u001b[39m'\u001b[39m\u001b[39mtype\u001b[39m\u001b[39m'\u001b[39m, \u001b[39m'\u001b[39m\u001b[39muri\u001b[39m\u001b[39m'\u001b[39m]\n\u001b[1;32m----> <a href='vscode-notebook-cell:/c%3A/Users/nabee/OneDrive/Desktop/music-recommendation/recommendation/models/retrieve_data.ipynb#ch0000015?line=1'>2</a>\u001b[0m audio_features_df\u001b[39m.\u001b[39;49mdrop(columns_to_drop, axis\u001b[39m=\u001b[39;49m\u001b[39m1\u001b[39;49m,inplace\u001b[39m=\u001b[39;49m\u001b[39mTrue\u001b[39;49;00m)\n\u001b[0;32m      <a href='vscode-notebook-cell:/c%3A/Users/nabee/OneDrive/Desktop/music-recommendation/recommendation/models/retrieve_data.ipynb#ch0000015?line=3'>4</a>\u001b[0m audio_features_df\u001b[39m.\u001b[39mrename(columns\u001b[39m=\u001b[39m{\u001b[39m'\u001b[39m\u001b[39mid\u001b[39m\u001b[39m'\u001b[39m: \u001b[39m'\u001b[39m\u001b[39mtrack_id\u001b[39m\u001b[39m'\u001b[39m}, inplace\u001b[39m=\u001b[39m\u001b[39mTrue\u001b[39;00m)\n\u001b[0;32m      <a href='vscode-notebook-cell:/c%3A/Users/nabee/OneDrive/Desktop/music-recommendation/recommendation/models/retrieve_data.ipynb#ch0000015?line=5'>6</a>\u001b[0m audio_features_df\u001b[39m.\u001b[39mshape\n",
      "File \u001b[1;32m~\\AppData\\Roaming\\Python\\Python310\\site-packages\\pandas\\util\\_decorators.py:311\u001b[0m, in \u001b[0;36mdeprecate_nonkeyword_arguments.<locals>.decorate.<locals>.wrapper\u001b[1;34m(*args, **kwargs)\u001b[0m\n\u001b[0;32m    <a href='file:///c%3A/Users/nabee/AppData/Roaming/Python/Python310/site-packages/pandas/util/_decorators.py?line=304'>305</a>\u001b[0m \u001b[39mif\u001b[39;00m \u001b[39mlen\u001b[39m(args) \u001b[39m>\u001b[39m num_allow_args:\n\u001b[0;32m    <a href='file:///c%3A/Users/nabee/AppData/Roaming/Python/Python310/site-packages/pandas/util/_decorators.py?line=305'>306</a>\u001b[0m     warnings\u001b[39m.\u001b[39mwarn(\n\u001b[0;32m    <a href='file:///c%3A/Users/nabee/AppData/Roaming/Python/Python310/site-packages/pandas/util/_decorators.py?line=306'>307</a>\u001b[0m         msg\u001b[39m.\u001b[39mformat(arguments\u001b[39m=\u001b[39marguments),\n\u001b[0;32m    <a href='file:///c%3A/Users/nabee/AppData/Roaming/Python/Python310/site-packages/pandas/util/_decorators.py?line=307'>308</a>\u001b[0m         \u001b[39mFutureWarning\u001b[39;00m,\n\u001b[0;32m    <a href='file:///c%3A/Users/nabee/AppData/Roaming/Python/Python310/site-packages/pandas/util/_decorators.py?line=308'>309</a>\u001b[0m         stacklevel\u001b[39m=\u001b[39mstacklevel,\n\u001b[0;32m    <a href='file:///c%3A/Users/nabee/AppData/Roaming/Python/Python310/site-packages/pandas/util/_decorators.py?line=309'>310</a>\u001b[0m     )\n\u001b[1;32m--> <a href='file:///c%3A/Users/nabee/AppData/Roaming/Python/Python310/site-packages/pandas/util/_decorators.py?line=310'>311</a>\u001b[0m \u001b[39mreturn\u001b[39;00m func(\u001b[39m*\u001b[39margs, \u001b[39m*\u001b[39m\u001b[39m*\u001b[39mkwargs)\n",
      "File \u001b[1;32m~\\AppData\\Roaming\\Python\\Python310\\site-packages\\pandas\\core\\frame.py:4954\u001b[0m, in \u001b[0;36mDataFrame.drop\u001b[1;34m(self, labels, axis, index, columns, level, inplace, errors)\u001b[0m\n\u001b[0;32m   <a href='file:///c%3A/Users/nabee/AppData/Roaming/Python/Python310/site-packages/pandas/core/frame.py?line=4805'>4806</a>\u001b[0m \u001b[39m@deprecate_nonkeyword_arguments\u001b[39m(version\u001b[39m=\u001b[39m\u001b[39mNone\u001b[39;00m, allowed_args\u001b[39m=\u001b[39m[\u001b[39m\"\u001b[39m\u001b[39mself\u001b[39m\u001b[39m\"\u001b[39m, \u001b[39m\"\u001b[39m\u001b[39mlabels\u001b[39m\u001b[39m\"\u001b[39m])\n\u001b[0;32m   <a href='file:///c%3A/Users/nabee/AppData/Roaming/Python/Python310/site-packages/pandas/core/frame.py?line=4806'>4807</a>\u001b[0m \u001b[39mdef\u001b[39;00m \u001b[39mdrop\u001b[39m(\n\u001b[0;32m   <a href='file:///c%3A/Users/nabee/AppData/Roaming/Python/Python310/site-packages/pandas/core/frame.py?line=4807'>4808</a>\u001b[0m     \u001b[39mself\u001b[39m,\n\u001b[1;32m   (...)\u001b[0m\n\u001b[0;32m   <a href='file:///c%3A/Users/nabee/AppData/Roaming/Python/Python310/site-packages/pandas/core/frame.py?line=4814'>4815</a>\u001b[0m     errors: \u001b[39mstr\u001b[39m \u001b[39m=\u001b[39m \u001b[39m\"\u001b[39m\u001b[39mraise\u001b[39m\u001b[39m\"\u001b[39m,\n\u001b[0;32m   <a href='file:///c%3A/Users/nabee/AppData/Roaming/Python/Python310/site-packages/pandas/core/frame.py?line=4815'>4816</a>\u001b[0m ):\n\u001b[0;32m   <a href='file:///c%3A/Users/nabee/AppData/Roaming/Python/Python310/site-packages/pandas/core/frame.py?line=4816'>4817</a>\u001b[0m     \u001b[39m\"\"\"\u001b[39;00m\n\u001b[0;32m   <a href='file:///c%3A/Users/nabee/AppData/Roaming/Python/Python310/site-packages/pandas/core/frame.py?line=4817'>4818</a>\u001b[0m \u001b[39m    Drop specified labels from rows or columns.\u001b[39;00m\n\u001b[0;32m   <a href='file:///c%3A/Users/nabee/AppData/Roaming/Python/Python310/site-packages/pandas/core/frame.py?line=4818'>4819</a>\u001b[0m \n\u001b[1;32m   (...)\u001b[0m\n\u001b[0;32m   <a href='file:///c%3A/Users/nabee/AppData/Roaming/Python/Python310/site-packages/pandas/core/frame.py?line=4951'>4952</a>\u001b[0m \u001b[39m            weight  1.0     0.8\u001b[39;00m\n\u001b[0;32m   <a href='file:///c%3A/Users/nabee/AppData/Roaming/Python/Python310/site-packages/pandas/core/frame.py?line=4952'>4953</a>\u001b[0m \u001b[39m    \"\"\"\u001b[39;00m\n\u001b[1;32m-> <a href='file:///c%3A/Users/nabee/AppData/Roaming/Python/Python310/site-packages/pandas/core/frame.py?line=4953'>4954</a>\u001b[0m     \u001b[39mreturn\u001b[39;00m \u001b[39msuper\u001b[39;49m()\u001b[39m.\u001b[39;49mdrop(\n\u001b[0;32m   <a href='file:///c%3A/Users/nabee/AppData/Roaming/Python/Python310/site-packages/pandas/core/frame.py?line=4954'>4955</a>\u001b[0m         labels\u001b[39m=\u001b[39;49mlabels,\n\u001b[0;32m   <a href='file:///c%3A/Users/nabee/AppData/Roaming/Python/Python310/site-packages/pandas/core/frame.py?line=4955'>4956</a>\u001b[0m         axis\u001b[39m=\u001b[39;49maxis,\n\u001b[0;32m   <a href='file:///c%3A/Users/nabee/AppData/Roaming/Python/Python310/site-packages/pandas/core/frame.py?line=4956'>4957</a>\u001b[0m         index\u001b[39m=\u001b[39;49mindex,\n\u001b[0;32m   <a href='file:///c%3A/Users/nabee/AppData/Roaming/Python/Python310/site-packages/pandas/core/frame.py?line=4957'>4958</a>\u001b[0m         columns\u001b[39m=\u001b[39;49mcolumns,\n\u001b[0;32m   <a href='file:///c%3A/Users/nabee/AppData/Roaming/Python/Python310/site-packages/pandas/core/frame.py?line=4958'>4959</a>\u001b[0m         level\u001b[39m=\u001b[39;49mlevel,\n\u001b[0;32m   <a href='file:///c%3A/Users/nabee/AppData/Roaming/Python/Python310/site-packages/pandas/core/frame.py?line=4959'>4960</a>\u001b[0m         inplace\u001b[39m=\u001b[39;49minplace,\n\u001b[0;32m   <a href='file:///c%3A/Users/nabee/AppData/Roaming/Python/Python310/site-packages/pandas/core/frame.py?line=4960'>4961</a>\u001b[0m         errors\u001b[39m=\u001b[39;49merrors,\n\u001b[0;32m   <a href='file:///c%3A/Users/nabee/AppData/Roaming/Python/Python310/site-packages/pandas/core/frame.py?line=4961'>4962</a>\u001b[0m     )\n",
      "File \u001b[1;32m~\\AppData\\Roaming\\Python\\Python310\\site-packages\\pandas\\core\\generic.py:4267\u001b[0m, in \u001b[0;36mNDFrame.drop\u001b[1;34m(self, labels, axis, index, columns, level, inplace, errors)\u001b[0m\n\u001b[0;32m   <a href='file:///c%3A/Users/nabee/AppData/Roaming/Python/Python310/site-packages/pandas/core/generic.py?line=4264'>4265</a>\u001b[0m \u001b[39mfor\u001b[39;00m axis, labels \u001b[39min\u001b[39;00m axes\u001b[39m.\u001b[39mitems():\n\u001b[0;32m   <a href='file:///c%3A/Users/nabee/AppData/Roaming/Python/Python310/site-packages/pandas/core/generic.py?line=4265'>4266</a>\u001b[0m     \u001b[39mif\u001b[39;00m labels \u001b[39mis\u001b[39;00m \u001b[39mnot\u001b[39;00m \u001b[39mNone\u001b[39;00m:\n\u001b[1;32m-> <a href='file:///c%3A/Users/nabee/AppData/Roaming/Python/Python310/site-packages/pandas/core/generic.py?line=4266'>4267</a>\u001b[0m         obj \u001b[39m=\u001b[39m obj\u001b[39m.\u001b[39;49m_drop_axis(labels, axis, level\u001b[39m=\u001b[39;49mlevel, errors\u001b[39m=\u001b[39;49merrors)\n\u001b[0;32m   <a href='file:///c%3A/Users/nabee/AppData/Roaming/Python/Python310/site-packages/pandas/core/generic.py?line=4268'>4269</a>\u001b[0m \u001b[39mif\u001b[39;00m inplace:\n\u001b[0;32m   <a href='file:///c%3A/Users/nabee/AppData/Roaming/Python/Python310/site-packages/pandas/core/generic.py?line=4269'>4270</a>\u001b[0m     \u001b[39mself\u001b[39m\u001b[39m.\u001b[39m_update_inplace(obj)\n",
      "File \u001b[1;32m~\\AppData\\Roaming\\Python\\Python310\\site-packages\\pandas\\core\\generic.py:4311\u001b[0m, in \u001b[0;36mNDFrame._drop_axis\u001b[1;34m(self, labels, axis, level, errors, consolidate, only_slice)\u001b[0m\n\u001b[0;32m   <a href='file:///c%3A/Users/nabee/AppData/Roaming/Python/Python310/site-packages/pandas/core/generic.py?line=4308'>4309</a>\u001b[0m         new_axis \u001b[39m=\u001b[39m axis\u001b[39m.\u001b[39mdrop(labels, level\u001b[39m=\u001b[39mlevel, errors\u001b[39m=\u001b[39merrors)\n\u001b[0;32m   <a href='file:///c%3A/Users/nabee/AppData/Roaming/Python/Python310/site-packages/pandas/core/generic.py?line=4309'>4310</a>\u001b[0m     \u001b[39melse\u001b[39;00m:\n\u001b[1;32m-> <a href='file:///c%3A/Users/nabee/AppData/Roaming/Python/Python310/site-packages/pandas/core/generic.py?line=4310'>4311</a>\u001b[0m         new_axis \u001b[39m=\u001b[39m axis\u001b[39m.\u001b[39;49mdrop(labels, errors\u001b[39m=\u001b[39;49merrors)\n\u001b[0;32m   <a href='file:///c%3A/Users/nabee/AppData/Roaming/Python/Python310/site-packages/pandas/core/generic.py?line=4311'>4312</a>\u001b[0m     indexer \u001b[39m=\u001b[39m axis\u001b[39m.\u001b[39mget_indexer(new_axis)\n\u001b[0;32m   <a href='file:///c%3A/Users/nabee/AppData/Roaming/Python/Python310/site-packages/pandas/core/generic.py?line=4313'>4314</a>\u001b[0m \u001b[39m# Case for non-unique axis\u001b[39;00m\n\u001b[0;32m   <a href='file:///c%3A/Users/nabee/AppData/Roaming/Python/Python310/site-packages/pandas/core/generic.py?line=4314'>4315</a>\u001b[0m \u001b[39melse\u001b[39;00m:\n",
      "File \u001b[1;32m~\\AppData\\Roaming\\Python\\Python310\\site-packages\\pandas\\core\\indexes\\base.py:6644\u001b[0m, in \u001b[0;36mIndex.drop\u001b[1;34m(self, labels, errors)\u001b[0m\n\u001b[0;32m   <a href='file:///c%3A/Users/nabee/AppData/Roaming/Python/Python310/site-packages/pandas/core/indexes/base.py?line=6641'>6642</a>\u001b[0m \u001b[39mif\u001b[39;00m mask\u001b[39m.\u001b[39many():\n\u001b[0;32m   <a href='file:///c%3A/Users/nabee/AppData/Roaming/Python/Python310/site-packages/pandas/core/indexes/base.py?line=6642'>6643</a>\u001b[0m     \u001b[39mif\u001b[39;00m errors \u001b[39m!=\u001b[39m \u001b[39m\"\u001b[39m\u001b[39mignore\u001b[39m\u001b[39m\"\u001b[39m:\n\u001b[1;32m-> <a href='file:///c%3A/Users/nabee/AppData/Roaming/Python/Python310/site-packages/pandas/core/indexes/base.py?line=6643'>6644</a>\u001b[0m         \u001b[39mraise\u001b[39;00m \u001b[39mKeyError\u001b[39;00m(\u001b[39mf\u001b[39m\u001b[39m\"\u001b[39m\u001b[39m{\u001b[39;00m\u001b[39mlist\u001b[39m(labels[mask])\u001b[39m}\u001b[39;00m\u001b[39m not found in axis\u001b[39m\u001b[39m\"\u001b[39m)\n\u001b[0;32m   <a href='file:///c%3A/Users/nabee/AppData/Roaming/Python/Python310/site-packages/pandas/core/indexes/base.py?line=6644'>6645</a>\u001b[0m     indexer \u001b[39m=\u001b[39m indexer[\u001b[39m~\u001b[39mmask]\n\u001b[0;32m   <a href='file:///c%3A/Users/nabee/AppData/Roaming/Python/Python310/site-packages/pandas/core/indexes/base.py?line=6645'>6646</a>\u001b[0m \u001b[39mreturn\u001b[39;00m \u001b[39mself\u001b[39m\u001b[39m.\u001b[39mdelete(indexer)\n",
      "\u001b[1;31mKeyError\u001b[0m: \"['analysis_url', 'track_href', 'type', 'uri'] not found in axis\""
     ]
    }
   ],
   "source": [
    "columns_to_drop = ['analysis_url', 'track_href', 'type', 'uri']\n",
    "audio_features_df.drop(columns_to_drop, axis=1,inplace=True)\n",
    "\n",
    "audio_features_df.rename(columns={'id': 'track_id'}, inplace=True)\n",
    "\n",
    "audio_features_df.shape"
   ]
  },
  {
   "cell_type": "code",
   "execution_count": 19,
   "metadata": {},
   "outputs": [
    {
     "ename": "KeyError",
     "evalue": "'track_id'",
     "output_type": "error",
     "traceback": [
      "\u001b[1;31m---------------------------------------------------------------------------\u001b[0m",
      "\u001b[1;31mKeyError\u001b[0m                                  Traceback (most recent call last)",
      "\u001b[1;32mc:\\Users\\nabee\\OneDrive\\Desktop\\music-recommendation\\recommendation\\models\\retrieve_data.ipynb Cell 17'\u001b[0m in \u001b[0;36m<cell line: 3>\u001b[1;34m()\u001b[0m\n\u001b[0;32m      <a href='vscode-notebook-cell:/c%3A/Users/nabee/OneDrive/Desktop/music-recommendation/recommendation/models/retrieve_data.ipynb#ch0000016?line=0'>1</a>\u001b[0m \u001b[39m# merge both dataframes\u001b[39;00m\n\u001b[0;32m      <a href='vscode-notebook-cell:/c%3A/Users/nabee/OneDrive/Desktop/music-recommendation/recommendation/models/retrieve_data.ipynb#ch0000016?line=1'>2</a>\u001b[0m \u001b[39m# the 'inner' method will make sure that we only keep track IDs present in both datasets\u001b[39;00m\n\u001b[1;32m----> <a href='vscode-notebook-cell:/c%3A/Users/nabee/OneDrive/Desktop/music-recommendation/recommendation/models/retrieve_data.ipynb#ch0000016?line=2'>3</a>\u001b[0m df \u001b[39m=\u001b[39m pd\u001b[39m.\u001b[39;49mmerge(df_tracks, audio_features_df, on\u001b[39m=\u001b[39;49m\u001b[39m'\u001b[39;49m\u001b[39mtrack_id\u001b[39;49m\u001b[39m'\u001b[39;49m, how\u001b[39m=\u001b[39;49m\u001b[39m'\u001b[39;49m\u001b[39minner\u001b[39;49m\u001b[39m'\u001b[39;49m)\n\u001b[0;32m      <a href='vscode-notebook-cell:/c%3A/Users/nabee/OneDrive/Desktop/music-recommendation/recommendation/models/retrieve_data.ipynb#ch0000016?line=3'>4</a>\u001b[0m df\n",
      "File \u001b[1;32m~\\AppData\\Roaming\\Python\\Python310\\site-packages\\pandas\\core\\reshape\\merge.py:107\u001b[0m, in \u001b[0;36mmerge\u001b[1;34m(left, right, how, on, left_on, right_on, left_index, right_index, sort, suffixes, copy, indicator, validate)\u001b[0m\n\u001b[0;32m     <a href='file:///c%3A/Users/nabee/AppData/Roaming/Python/Python310/site-packages/pandas/core/reshape/merge.py?line=89'>90</a>\u001b[0m \u001b[39m@Substitution\u001b[39m(\u001b[39m\"\u001b[39m\u001b[39m\\n\u001b[39;00m\u001b[39mleft : DataFrame or named Series\u001b[39m\u001b[39m\"\u001b[39m)\n\u001b[0;32m     <a href='file:///c%3A/Users/nabee/AppData/Roaming/Python/Python310/site-packages/pandas/core/reshape/merge.py?line=90'>91</a>\u001b[0m \u001b[39m@Appender\u001b[39m(_merge_doc, indents\u001b[39m=\u001b[39m\u001b[39m0\u001b[39m)\n\u001b[0;32m     <a href='file:///c%3A/Users/nabee/AppData/Roaming/Python/Python310/site-packages/pandas/core/reshape/merge.py?line=91'>92</a>\u001b[0m \u001b[39mdef\u001b[39;00m \u001b[39mmerge\u001b[39m(\n\u001b[1;32m   (...)\u001b[0m\n\u001b[0;32m    <a href='file:///c%3A/Users/nabee/AppData/Roaming/Python/Python310/site-packages/pandas/core/reshape/merge.py?line=104'>105</a>\u001b[0m     validate: \u001b[39mstr\u001b[39m \u001b[39m|\u001b[39m \u001b[39mNone\u001b[39;00m \u001b[39m=\u001b[39m \u001b[39mNone\u001b[39;00m,\n\u001b[0;32m    <a href='file:///c%3A/Users/nabee/AppData/Roaming/Python/Python310/site-packages/pandas/core/reshape/merge.py?line=105'>106</a>\u001b[0m ) \u001b[39m-\u001b[39m\u001b[39m>\u001b[39m DataFrame:\n\u001b[1;32m--> <a href='file:///c%3A/Users/nabee/AppData/Roaming/Python/Python310/site-packages/pandas/core/reshape/merge.py?line=106'>107</a>\u001b[0m     op \u001b[39m=\u001b[39m _MergeOperation(\n\u001b[0;32m    <a href='file:///c%3A/Users/nabee/AppData/Roaming/Python/Python310/site-packages/pandas/core/reshape/merge.py?line=107'>108</a>\u001b[0m         left,\n\u001b[0;32m    <a href='file:///c%3A/Users/nabee/AppData/Roaming/Python/Python310/site-packages/pandas/core/reshape/merge.py?line=108'>109</a>\u001b[0m         right,\n\u001b[0;32m    <a href='file:///c%3A/Users/nabee/AppData/Roaming/Python/Python310/site-packages/pandas/core/reshape/merge.py?line=109'>110</a>\u001b[0m         how\u001b[39m=\u001b[39;49mhow,\n\u001b[0;32m    <a href='file:///c%3A/Users/nabee/AppData/Roaming/Python/Python310/site-packages/pandas/core/reshape/merge.py?line=110'>111</a>\u001b[0m         on\u001b[39m=\u001b[39;49mon,\n\u001b[0;32m    <a href='file:///c%3A/Users/nabee/AppData/Roaming/Python/Python310/site-packages/pandas/core/reshape/merge.py?line=111'>112</a>\u001b[0m         left_on\u001b[39m=\u001b[39;49mleft_on,\n\u001b[0;32m    <a href='file:///c%3A/Users/nabee/AppData/Roaming/Python/Python310/site-packages/pandas/core/reshape/merge.py?line=112'>113</a>\u001b[0m         right_on\u001b[39m=\u001b[39;49mright_on,\n\u001b[0;32m    <a href='file:///c%3A/Users/nabee/AppData/Roaming/Python/Python310/site-packages/pandas/core/reshape/merge.py?line=113'>114</a>\u001b[0m         left_index\u001b[39m=\u001b[39;49mleft_index,\n\u001b[0;32m    <a href='file:///c%3A/Users/nabee/AppData/Roaming/Python/Python310/site-packages/pandas/core/reshape/merge.py?line=114'>115</a>\u001b[0m         right_index\u001b[39m=\u001b[39;49mright_index,\n\u001b[0;32m    <a href='file:///c%3A/Users/nabee/AppData/Roaming/Python/Python310/site-packages/pandas/core/reshape/merge.py?line=115'>116</a>\u001b[0m         sort\u001b[39m=\u001b[39;49msort,\n\u001b[0;32m    <a href='file:///c%3A/Users/nabee/AppData/Roaming/Python/Python310/site-packages/pandas/core/reshape/merge.py?line=116'>117</a>\u001b[0m         suffixes\u001b[39m=\u001b[39;49msuffixes,\n\u001b[0;32m    <a href='file:///c%3A/Users/nabee/AppData/Roaming/Python/Python310/site-packages/pandas/core/reshape/merge.py?line=117'>118</a>\u001b[0m         copy\u001b[39m=\u001b[39;49mcopy,\n\u001b[0;32m    <a href='file:///c%3A/Users/nabee/AppData/Roaming/Python/Python310/site-packages/pandas/core/reshape/merge.py?line=118'>119</a>\u001b[0m         indicator\u001b[39m=\u001b[39;49mindicator,\n\u001b[0;32m    <a href='file:///c%3A/Users/nabee/AppData/Roaming/Python/Python310/site-packages/pandas/core/reshape/merge.py?line=119'>120</a>\u001b[0m         validate\u001b[39m=\u001b[39;49mvalidate,\n\u001b[0;32m    <a href='file:///c%3A/Users/nabee/AppData/Roaming/Python/Python310/site-packages/pandas/core/reshape/merge.py?line=120'>121</a>\u001b[0m     )\n\u001b[0;32m    <a href='file:///c%3A/Users/nabee/AppData/Roaming/Python/Python310/site-packages/pandas/core/reshape/merge.py?line=121'>122</a>\u001b[0m     \u001b[39mreturn\u001b[39;00m op\u001b[39m.\u001b[39mget_result()\n",
      "File \u001b[1;32m~\\AppData\\Roaming\\Python\\Python310\\site-packages\\pandas\\core\\reshape\\merge.py:700\u001b[0m, in \u001b[0;36m_MergeOperation.__init__\u001b[1;34m(self, left, right, how, on, left_on, right_on, axis, left_index, right_index, sort, suffixes, copy, indicator, validate)\u001b[0m\n\u001b[0;32m    <a href='file:///c%3A/Users/nabee/AppData/Roaming/Python/Python310/site-packages/pandas/core/reshape/merge.py?line=692'>693</a>\u001b[0m \u001b[39mself\u001b[39m\u001b[39m.\u001b[39m_cross \u001b[39m=\u001b[39m cross_col\n\u001b[0;32m    <a href='file:///c%3A/Users/nabee/AppData/Roaming/Python/Python310/site-packages/pandas/core/reshape/merge.py?line=694'>695</a>\u001b[0m \u001b[39m# note this function has side effects\u001b[39;00m\n\u001b[0;32m    <a href='file:///c%3A/Users/nabee/AppData/Roaming/Python/Python310/site-packages/pandas/core/reshape/merge.py?line=695'>696</a>\u001b[0m (\n\u001b[0;32m    <a href='file:///c%3A/Users/nabee/AppData/Roaming/Python/Python310/site-packages/pandas/core/reshape/merge.py?line=696'>697</a>\u001b[0m     \u001b[39mself\u001b[39m\u001b[39m.\u001b[39mleft_join_keys,\n\u001b[0;32m    <a href='file:///c%3A/Users/nabee/AppData/Roaming/Python/Python310/site-packages/pandas/core/reshape/merge.py?line=697'>698</a>\u001b[0m     \u001b[39mself\u001b[39m\u001b[39m.\u001b[39mright_join_keys,\n\u001b[0;32m    <a href='file:///c%3A/Users/nabee/AppData/Roaming/Python/Python310/site-packages/pandas/core/reshape/merge.py?line=698'>699</a>\u001b[0m     \u001b[39mself\u001b[39m\u001b[39m.\u001b[39mjoin_names,\n\u001b[1;32m--> <a href='file:///c%3A/Users/nabee/AppData/Roaming/Python/Python310/site-packages/pandas/core/reshape/merge.py?line=699'>700</a>\u001b[0m ) \u001b[39m=\u001b[39m \u001b[39mself\u001b[39;49m\u001b[39m.\u001b[39;49m_get_merge_keys()\n\u001b[0;32m    <a href='file:///c%3A/Users/nabee/AppData/Roaming/Python/Python310/site-packages/pandas/core/reshape/merge.py?line=701'>702</a>\u001b[0m \u001b[39m# validate the merge keys dtypes. We may need to coerce\u001b[39;00m\n\u001b[0;32m    <a href='file:///c%3A/Users/nabee/AppData/Roaming/Python/Python310/site-packages/pandas/core/reshape/merge.py?line=702'>703</a>\u001b[0m \u001b[39m# to avoid incompatible dtypes\u001b[39;00m\n\u001b[0;32m    <a href='file:///c%3A/Users/nabee/AppData/Roaming/Python/Python310/site-packages/pandas/core/reshape/merge.py?line=703'>704</a>\u001b[0m \u001b[39mself\u001b[39m\u001b[39m.\u001b[39m_maybe_coerce_merge_keys()\n",
      "File \u001b[1;32m~\\AppData\\Roaming\\Python\\Python310\\site-packages\\pandas\\core\\reshape\\merge.py:1097\u001b[0m, in \u001b[0;36m_MergeOperation._get_merge_keys\u001b[1;34m(self)\u001b[0m\n\u001b[0;32m   <a href='file:///c%3A/Users/nabee/AppData/Roaming/Python/Python310/site-packages/pandas/core/reshape/merge.py?line=1094'>1095</a>\u001b[0m \u001b[39mif\u001b[39;00m \u001b[39mnot\u001b[39;00m is_rkey(rk):\n\u001b[0;32m   <a href='file:///c%3A/Users/nabee/AppData/Roaming/Python/Python310/site-packages/pandas/core/reshape/merge.py?line=1095'>1096</a>\u001b[0m     \u001b[39mif\u001b[39;00m rk \u001b[39mis\u001b[39;00m \u001b[39mnot\u001b[39;00m \u001b[39mNone\u001b[39;00m:\n\u001b[1;32m-> <a href='file:///c%3A/Users/nabee/AppData/Roaming/Python/Python310/site-packages/pandas/core/reshape/merge.py?line=1096'>1097</a>\u001b[0m         right_keys\u001b[39m.\u001b[39mappend(right\u001b[39m.\u001b[39;49m_get_label_or_level_values(rk))\n\u001b[0;32m   <a href='file:///c%3A/Users/nabee/AppData/Roaming/Python/Python310/site-packages/pandas/core/reshape/merge.py?line=1097'>1098</a>\u001b[0m     \u001b[39melse\u001b[39;00m:\n\u001b[0;32m   <a href='file:///c%3A/Users/nabee/AppData/Roaming/Python/Python310/site-packages/pandas/core/reshape/merge.py?line=1098'>1099</a>\u001b[0m         \u001b[39m# work-around for merge_asof(right_index=True)\u001b[39;00m\n\u001b[0;32m   <a href='file:///c%3A/Users/nabee/AppData/Roaming/Python/Python310/site-packages/pandas/core/reshape/merge.py?line=1099'>1100</a>\u001b[0m         right_keys\u001b[39m.\u001b[39mappend(right\u001b[39m.\u001b[39mindex)\n",
      "File \u001b[1;32m~\\AppData\\Roaming\\Python\\Python310\\site-packages\\pandas\\core\\generic.py:1840\u001b[0m, in \u001b[0;36mNDFrame._get_label_or_level_values\u001b[1;34m(self, key, axis)\u001b[0m\n\u001b[0;32m   <a href='file:///c%3A/Users/nabee/AppData/Roaming/Python/Python310/site-packages/pandas/core/generic.py?line=1837'>1838</a>\u001b[0m     values \u001b[39m=\u001b[39m \u001b[39mself\u001b[39m\u001b[39m.\u001b[39maxes[axis]\u001b[39m.\u001b[39mget_level_values(key)\u001b[39m.\u001b[39m_values\n\u001b[0;32m   <a href='file:///c%3A/Users/nabee/AppData/Roaming/Python/Python310/site-packages/pandas/core/generic.py?line=1838'>1839</a>\u001b[0m \u001b[39melse\u001b[39;00m:\n\u001b[1;32m-> <a href='file:///c%3A/Users/nabee/AppData/Roaming/Python/Python310/site-packages/pandas/core/generic.py?line=1839'>1840</a>\u001b[0m     \u001b[39mraise\u001b[39;00m \u001b[39mKeyError\u001b[39;00m(key)\n\u001b[0;32m   <a href='file:///c%3A/Users/nabee/AppData/Roaming/Python/Python310/site-packages/pandas/core/generic.py?line=1841'>1842</a>\u001b[0m \u001b[39m# Check for duplicates\u001b[39;00m\n\u001b[0;32m   <a href='file:///c%3A/Users/nabee/AppData/Roaming/Python/Python310/site-packages/pandas/core/generic.py?line=1842'>1843</a>\u001b[0m \u001b[39mif\u001b[39;00m values\u001b[39m.\u001b[39mndim \u001b[39m>\u001b[39m \u001b[39m1\u001b[39m:\n",
      "\u001b[1;31mKeyError\u001b[0m: 'track_id'"
     ]
    }
   ],
   "source": [
    "# merge both dataframes\n",
    "# the 'inner' method will make sure that we only keep track IDs present in both datasets\n",
    "df = pd.merge(df_tracks, audio_features_df, on='track_id', how='inner')\n",
    "df"
   ]
  },
  {
   "cell_type": "code",
   "execution_count": 20,
   "metadata": {},
   "outputs": [
    {
     "ename": "NameError",
     "evalue": "name 'df' is not defined",
     "output_type": "error",
     "traceback": [
      "\u001b[1;31m---------------------------------------------------------------------------\u001b[0m",
      "\u001b[1;31mNameError\u001b[0m                                 Traceback (most recent call last)",
      "\u001b[1;32mc:\\Users\\nabee\\OneDrive\\Desktop\\music-recommendation\\recommendation\\models\\retrieve_data.ipynb Cell 18'\u001b[0m in \u001b[0;36m<cell line: 1>\u001b[1;34m()\u001b[0m\n\u001b[1;32m----> <a href='vscode-notebook-cell:/c%3A/Users/nabee/OneDrive/Desktop/music-recommendation/recommendation/models/retrieve_data.ipynb#ch0000017?line=0'>1</a>\u001b[0m df\u001b[39m.\u001b[39minfo()\n",
      "\u001b[1;31mNameError\u001b[0m: name 'df' is not defined"
     ]
    }
   ],
   "source": [
    "df.info()"
   ]
  },
  {
   "cell_type": "code",
   "execution_count": 21,
   "metadata": {},
   "outputs": [
    {
     "ename": "NameError",
     "evalue": "name 'df' is not defined",
     "output_type": "error",
     "traceback": [
      "\u001b[1;31m---------------------------------------------------------------------------\u001b[0m",
      "\u001b[1;31mNameError\u001b[0m                                 Traceback (most recent call last)",
      "\u001b[1;32mc:\\Users\\nabee\\OneDrive\\Desktop\\music-recommendation\\recommendation\\models\\retrieve_data.ipynb Cell 19'\u001b[0m in \u001b[0;36m<cell line: 1>\u001b[1;34m()\u001b[0m\n\u001b[1;32m----> <a href='vscode-notebook-cell:/c%3A/Users/nabee/OneDrive/Desktop/music-recommendation/recommendation/models/retrieve_data.ipynb#ch0000018?line=0'>1</a>\u001b[0m df[df\u001b[39m.\u001b[39mduplicated(subset\u001b[39m=\u001b[39m[\u001b[39m'\u001b[39m\u001b[39martist_name\u001b[39m\u001b[39m'\u001b[39m, \u001b[39m'\u001b[39m\u001b[39mtrack_name\u001b[39m\u001b[39m'\u001b[39m], keep\u001b[39m=\u001b[39m\u001b[39mFalse\u001b[39;00m)]\n",
      "\u001b[1;31mNameError\u001b[0m: name 'df' is not defined"
     ]
    }
   ],
   "source": [
    "df[df.duplicated(subset=['artist_name', 'track_name'], keep=False)]"
   ]
  },
  {
   "cell_type": "code",
   "execution_count": 22,
   "metadata": {},
   "outputs": [
    {
     "ename": "NameError",
     "evalue": "name 'df' is not defined",
     "output_type": "error",
     "traceback": [
      "\u001b[1;31m---------------------------------------------------------------------------\u001b[0m",
      "\u001b[1;31mNameError\u001b[0m                                 Traceback (most recent call last)",
      "\u001b[1;32mc:\\Users\\nabee\\OneDrive\\Desktop\\music-recommendation\\recommendation\\models\\retrieve_data.ipynb Cell 20'\u001b[0m in \u001b[0;36m<cell line: 1>\u001b[1;34m()\u001b[0m\n\u001b[1;32m----> <a href='vscode-notebook-cell:/c%3A/Users/nabee/OneDrive/Desktop/music-recommendation/recommendation/models/retrieve_data.ipynb#ch0000019?line=0'>1</a>\u001b[0m df\u001b[39m.\u001b[39mdrop_duplicates(subset\u001b[39m=\u001b[39m[\u001b[39m'\u001b[39m\u001b[39martist_name\u001b[39m\u001b[39m'\u001b[39m,\u001b[39m'\u001b[39m\u001b[39mtrack_name\u001b[39m\u001b[39m'\u001b[39m], inplace\u001b[39m=\u001b[39m\u001b[39mTrue\u001b[39;00m)\n\u001b[0;32m      <a href='vscode-notebook-cell:/c%3A/Users/nabee/OneDrive/Desktop/music-recommendation/recommendation/models/retrieve_data.ipynb#ch0000019?line=1'>2</a>\u001b[0m df[df\u001b[39m.\u001b[39mduplicated(subset\u001b[39m=\u001b[39m[\u001b[39m'\u001b[39m\u001b[39martist_name\u001b[39m\u001b[39m'\u001b[39m, \u001b[39m'\u001b[39m\u001b[39mtrack_name\u001b[39m\u001b[39m'\u001b[39m], keep\u001b[39m=\u001b[39m\u001b[39mFalse\u001b[39;00m)]\n",
      "\u001b[1;31mNameError\u001b[0m: name 'df' is not defined"
     ]
    }
   ],
   "source": [
    "df.drop_duplicates(subset=['artist_name','track_name'], inplace=True)\n",
    "df[df.duplicated(subset=['artist_name', 'track_name'], keep=False)]"
   ]
  },
  {
   "cell_type": "code",
   "execution_count": 23,
   "metadata": {},
   "outputs": [
    {
     "ename": "NameError",
     "evalue": "name 'df' is not defined",
     "output_type": "error",
     "traceback": [
      "\u001b[1;31m---------------------------------------------------------------------------\u001b[0m",
      "\u001b[1;31mNameError\u001b[0m                                 Traceback (most recent call last)",
      "\u001b[1;32mc:\\Users\\nabee\\OneDrive\\Desktop\\music-recommendation\\recommendation\\models\\retrieve_data.ipynb Cell 21'\u001b[0m in \u001b[0;36m<cell line: 1>\u001b[1;34m()\u001b[0m\n\u001b[1;32m----> <a href='vscode-notebook-cell:/c%3A/Users/nabee/OneDrive/Desktop/music-recommendation/recommendation/models/retrieve_data.ipynb#ch0000020?line=0'>1</a>\u001b[0m df\u001b[39m.\u001b[39mshape\n",
      "\u001b[1;31mNameError\u001b[0m: name 'df' is not defined"
     ]
    }
   ],
   "source": [
    "df.shape"
   ]
  },
  {
   "cell_type": "code",
   "execution_count": 24,
   "metadata": {},
   "outputs": [
    {
     "ename": "NameError",
     "evalue": "name 'df' is not defined",
     "output_type": "error",
     "traceback": [
      "\u001b[1;31m---------------------------------------------------------------------------\u001b[0m",
      "\u001b[1;31mNameError\u001b[0m                                 Traceback (most recent call last)",
      "\u001b[1;32mc:\\Users\\nabee\\OneDrive\\Desktop\\music-recommendation\\recommendation\\models\\retrieve_data.ipynb Cell 22'\u001b[0m in \u001b[0;36m<cell line: 1>\u001b[1;34m()\u001b[0m\n\u001b[1;32m----> <a href='vscode-notebook-cell:/c%3A/Users/nabee/OneDrive/Desktop/music-recommendation/recommendation/models/retrieve_data.ipynb#ch0000021?line=0'>1</a>\u001b[0m df\u001b[39m.\u001b[39mto_csv(\u001b[39m'\u001b[39m\u001b[39m../data/spotify_audio_features.csv\u001b[39m\u001b[39m'\u001b[39m, index\u001b[39m=\u001b[39m\u001b[39mFalse\u001b[39;00m)\n",
      "\u001b[1;31mNameError\u001b[0m: name 'df' is not defined"
     ]
    }
   ],
   "source": [
    "df.to_csv('./data/spotify_audio_features.csv', index=False)"
   ]
  },
  {
   "cell_type": "code",
   "execution_count": null,
   "metadata": {},
   "outputs": [],
   "source": []
  }
 ],
 "metadata": {
  "interpreter": {
   "hash": "26de051ba29f2982a8de78e945f0abaf191376122a1563185a90213a26c5da77"
  },
  "kernelspec": {
   "display_name": "Python 3.10.4 64-bit",
   "language": "python",
   "name": "python3"
  },
  "language_info": {
   "codemirror_mode": {
    "name": "ipython",
    "version": 3
   },
   "file_extension": ".py",
   "mimetype": "text/x-python",
   "name": "python",
   "nbconvert_exporter": "python",
   "pygments_lexer": "ipython3",
   "version": "3.10.4"
  },
  "orig_nbformat": 4
 },
 "nbformat": 4,
 "nbformat_minor": 2
}
